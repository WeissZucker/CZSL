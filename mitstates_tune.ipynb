{
 "cells": [
  {
   "cell_type": "markdown",
   "metadata": {
    "id": "mNMEBGuOtd5z"
   },
   "source": [
    "# MIT dataset"
   ]
  },
  {
   "cell_type": "code",
   "execution_count": 1,
   "metadata": {
    "id": "Gm9YyejSBahW"
   },
   "outputs": [
    {
     "name": "stderr",
     "output_type": "stream",
     "text": [
      "/home/ubuntu/anaconda3/envs/mitstates/lib/python3.7/site-packages/gensim/similarities/__init__.py:15: UserWarning: The gensim.similarities.levenshtein submodule is disabled, because the optional Levenshtein package <https://pypi.org/project/python-Levenshtein/> is unavailable. Install Levenhstein (e.g. `pip install python-Levenshtein`) to suppress this warning.\n",
      "  warnings.warn(msg)\n"
     ]
    },
    {
     "name": "stdout",
     "output_type": "stream",
     "text": [
      "53753 activations loaded\n",
      "#images = 34562\n"
     ]
    }
   ],
   "source": [
    "# import some common libraries\n",
    "import numpy as np\n",
    "import torch\n",
    "import torch.nn as nn\n",
    "from torch.utils.tensorboard import SummaryWriter\n",
    "import os\n",
    "\n",
    "import matplotlib.pyplot as plt\n",
    "from train import train_with_config, train\n",
    "from evaluator import *\n",
    "from model import *\n",
    "from symnet.utils import dataset\n",
    "if torch.cuda.is_available():  \n",
    "  dev = \"cuda:0\" \n",
    "else:  \n",
    "  dev = \"cpu\" \n",
    "  \n",
    "%load_ext autoreload\n",
    "%autoreload 2"
   ]
  },
  {
   "cell_type": "code",
   "execution_count": 2,
   "metadata": {
    "colab": {
     "base_uri": "https://localhost:8080/"
    },
    "id": "RtyStmYy05Cb",
    "outputId": "acc57faf-cca3-4b8c-de91-3b84f64347fa"
   },
   "outputs": [
    {
     "name": "stdout",
     "output_type": "stream",
     "text": [
      "63440 activations loaded\n",
      "natural split train\n",
      "#images = 30338\n",
      "63440 activations loaded\n",
      "natural split val\n",
      "#images = 10420\n",
      "63440 activations loaded\n",
      "natural split test\n",
      "#images = 12995\n"
     ]
    }
   ],
   "source": [
    "# train [img, attr_id, obj_id, pair_id, img_feature, img, attr_id, obj_id, pair_id, img_feature, aff_mask]\n",
    "# test [img, attr_id, obj_id, pair_id, img_feature, aff_mask]\n",
    "\n",
    "train_dataloader = dataset.get_dataloader('MITg', 'train', batchsize=64, with_image=True, shuffle=True, num_workers=4)\n",
    "val_dataloader = dataset.get_dataloader('MITg', 'val', batchsize=64, with_image=True)\n",
    "test_dataloader = dataset.get_dataloader('MITg', 'test', batchsize=64, with_image=True)"
   ]
  },
  {
   "cell_type": "code",
   "execution_count": null,
   "metadata": {},
   "outputs": [],
   "source": [
    "resnet_name = 'resnet101'\n",
    "# compoResnet = CompoResnetFeatfile(resnet_name, 1).to(dev)\n",
    "compoResnet = CompoResnet(resnet_name, 1).to(dev)\n",
    "\n",
    "optimizer = torch.optim.AdamW(compoResnet.parameters(), lr=0.002)\n",
    "criterion = nn.CrossEntropyLoss()\n",
    "curr_epoch = 0\n",
    "best_auc = 0\n",
    "\n",
    "model_dir = './models/'\n",
    "model_name = \"resnet101\"\n",
    "model_path = '' if not model_name else os.path.join(model_dir, model_name+'.pt')\n",
    "\n",
    "try:\n",
    "  checkpoint = torch.load(model_path)\n",
    "  compoResnet.load_state_dict(checkpoint['model_state_dict'])\n",
    "  optimizer.load_state_dict(checkpoint['optimizer_state_dict'])\n",
    "  if 'best_auc' in checkpoint:\n",
    "    best_auc = checkpoint['best_auc']\n",
    "  if 'epoch' in checkpoint:\n",
    "    curr_epoch = checkpoint['epoch']\n",
    "  print('Model loaded.')\n",
    "except FileNotFoundError:\n",
    "  pass\n",
    "  \n",
    "logger = SummaryWriter()"
   ]
  },
  {
   "cell_type": "code",
   "execution_count": null,
   "metadata": {},
   "outputs": [],
   "source": [
    "num_epochs = 100\n",
    "batch_size = 64\n",
    "best_auc = train(compoResnet, optimizer, criterion, num_epochs, batch_size, train_dataloader, val_dataloader, logger,\n",
    "      curr_epoch=curr_epoch, best_auc=best_auc, save_path=model_path)\n",
    "curr_epoch += num_epochs\n",
    "print('Best auc:', best_auc)"
   ]
  },
  {
   "cell_type": "code",
   "execution_count": 8,
   "metadata": {},
   "outputs": [],
   "source": [
    "evaluator = Evaluator(test_dataloader, 20)\n",
    "# fscore_evaluator = EvaluatorWithFscore(test_dataloader, 20, fscore_threshold=0.5, word2vec_path='./GoogleNews-vectors-negative300.bin', fscore_path='fscore.pt')"
   ]
  },
  {
   "cell_type": "code",
   "execution_count": 6,
   "metadata": {},
   "outputs": [
    {
     "name": "stderr",
     "output_type": "stream",
     "text": [
      "100%|██████████| 204/204 [01:03<00:00,  3.22it/s]\n"
     ]
    }
   ],
   "source": [
    "obj_scores = []\n",
    "attr_scores = []\n",
    "compoResnet.eval()\n",
    "for i, batch in tqdm.tqdm(\n",
    "    enumerate(test_dataloader),\n",
    "    total=len(test_dataloader)):\n",
    "  img, attr_id, obj_id = batch[:3]\n",
    "#   _, attr_id, obj_id, _, img = batch[:5]\n",
    "  if len(img) == 1:\n",
    "    # Batchnorm doesn't accept batch with size 1\n",
    "    continue\n",
    "  obj_score, attr_score = compoResnet(img.to(dev))\n",
    "  obj_scores.append(obj_score)\n",
    "  attr_scores.append(attr_score)\n",
    "obj_scores = torch.cat(obj_scores)\n",
    "attr_scores = torch.cat(attr_scores)"
   ]
  },
  {
   "cell_type": "code",
   "execution_count": 9,
   "metadata": {},
   "outputs": [
    {
     "name": "stdout",
     "output_type": "stream",
     "text": [
      "A:0.1936|O:0.3117|CwSeen:0.2450|CwUnseen:0.2304|CwHM:0.1462|CwAUC:0.0369|OpSeen:0.2450|OpUnseen:0.0831|OpHM:0.0829|OpAUC:0.0121|"
     ]
    }
   ],
   "source": [
    "summary = evaluator.eval_primitive_scores(attr_scores, obj_scores, topk=1)\n",
    "for key, value in summary.items():\n",
    "  print(f'{key}:{value:.4f}|', end='')"
   ]
  },
  {
   "cell_type": "code",
   "execution_count": 114,
   "metadata": {},
   "outputs": [
    {
     "name": "stderr",
     "output_type": "stream",
     "text": [
      "100%|██████████| 20/20 [00:55<00:00,  2.80s/it]\n"
     ]
    }
   ],
   "source": [
    "results = []\n",
    "for t in tqdm.tqdm(np.linspace(0.1, 0.5, 20), total=20):\n",
    "  fscore_evaluator.update_threshold(t)\n",
    "  results.append(fscore_evaluator.eval_primitive_scores(attr_scores, obj_scores))"
   ]
  },
  {
   "cell_type": "code",
   "execution_count": 115,
   "metadata": {},
   "outputs": [
    {
     "data": {
      "text/plain": [
       "[<matplotlib.lines.Line2D at 0x7fb848804a10>]"
      ]
     },
     "execution_count": 115,
     "metadata": {},
     "output_type": "execute_result"
    },
    {
     "data": {
      "image/png": "[encoded data removed]",
      "text/plain": [
       "<Figure size 432x288 with 1 Axes>"
      ]
     },
     "metadata": {
      "needs_background": "light"
     },
     "output_type": "display_data"
    }
   ],
   "source": [
    "auc = [result['OpAUC'] for result in results]\n",
    "plt.plot(np.linspace(0.1, 0.5, 20), auc)"
   ]
  },
  {
   "cell_type": "code",
   "execution_count": 116,
   "metadata": {},
   "outputs": [
    {
     "name": "stdout",
     "output_type": "stream",
     "text": [
      "A:0.1715|O:0.2696|CwSeen:0.1853|CwUnseen:0.1933|CwHM:0.1106|CwAUC:0.0220|OpSeen:0.1853|OpUnseen:0.0795|OpHM:0.0678|OpAUC:0.0083|"
     ]
    }
   ],
   "source": [
    "summary = results[np.argmax(auc)]\n",
    "for key, value in summary.items():\n",
    "  print(f'{key}:{value:.4f}|', end='')"
   ]
  },
  {
   "cell_type": "code",
   "execution_count": null,
   "metadata": {},
   "outputs": [],
   "source": [
    "A:0.180|O:0.288|CwSeen:0.241|CwUnseen:0.222|CwHM:0.148|CwAUC:0.03786|OpSeen:0.241|OpUnseen:0.104|OpHM:0.099|OpAUC:0.01645|"
   ]
  },
  {
   "cell_type": "code",
   "execution_count": 22,
   "metadata": {},
   "outputs": [
    {
     "data": {
      "text/plain": [
       "[<matplotlib.lines.Line2D at 0x7f8db46f4750>]"
      ]
     },
     "execution_count": 22,
     "metadata": {},
     "output_type": "execute_result"
    },
    {
     "data": {
      "image/png": "[encoded data removed]",
      "text/plain": [
       "<Figure size 432x288 with 4 Axes>"
      ]
     },
     "metadata": {
      "needs_background": "light"
     },
     "output_type": "display_data"
    }
   ],
   "source": [
    "plt.subplot(2, 2, 1)\n",
    "plt.plot(obj_loss_history[0])\n",
    "plt.subplot(2, 2, 2)\n",
    "plt.plot(obj_loss_history[1])\n",
    "plt.subplot(2, 2, 3)\n",
    "plt.plot(attr_loss_history[0])\n",
    "plt.subplot(2, 2, 4)\n",
    "plt.plot(attr_loss_history[1])"
   ]
  },
  {
   "cell_type": "code",
   "execution_count": null,
   "metadata": {
    "id": "iQfa8FFXGZd4"
   },
   "outputs": [],
   "source": [
    "config = {\n",
    "    \"lr\": tune.loguniform(1e-4, 1e-1),\n",
    "    \"resnet\": tune.choice(['resnet18', 'resnet50', 'resnet101']),\n",
    "    \"num_mlp_layers\": tune.choice([1,2,4,6]),\n",
    "}"
   ]
  },
  {
   "cell_type": "code",
   "execution_count": null,
   "metadata": {
    "colab": {
     "base_uri": "https://localhost:8080/"
    },
    "id": "jcs6yz64H1-K",
    "outputId": "36edb0ab-b5db-4da4-bd59-37adeab1ad26"
   },
   "outputs": [],
   "source": [
    "num_samples = 12\n",
    "num_epochs = 6\n",
    "scheduler = ASHAScheduler(\n",
    "        metric=\"loss\",\n",
    "        mode=\"min\",\n",
    "        max_t=num_epochs,\n",
    "        grace_period=1,\n",
    "        reduction_factor=2)\n",
    "reporter = CLIReporter(metric_columns=[\"loss\", \"accuracy\", \"training_iteration\"])\n",
    "result = tune.run(\n",
    "    partial(train_with_config, num_epochs=num_epochs),\n",
    "    resources_per_trial={\"cpu\": 1, \"gpu\": 0.32},\n",
    "    config=config,\n",
    "    num_samples=num_samples,\n",
    "    scheduler=scheduler,\n",
    "    progress_reporter=reporter)"
   ]
  },
  {
   "cell_type": "code",
   "execution_count": null,
   "metadata": {
    "id": "7TwtaoRxPuqT"
   },
   "outputs": [],
   "source": [
    "best_trial = result.get_best_trial(\"loss\", \"min\", \"last\")\n",
    "print(\"Best trial config: {}\".format(best_trial.config))\n",
    "print(\"Best trial final validation loss: {}\".format(\n",
    "    best_trial.last_result[\"loss\"]))\n",
    "print(\"Best trial final validation accuracy: {}\".format(\n",
    "    best_trial.last_result[\"accuracy\"]))\n",
    "\n",
    "resnet = frozen(torch.hub.load('pytorch/vision:v0.9.0', best_trial.config[\"resnet\"], pretrained=True))\n",
    "best_mlp = partial(HalvingMLP, num_layers=best_trial.config[\"num_mlp_layers\"])\n",
    "best_trained_model = CompoResnet(resnet, obj_class, attr_class, best_mlp).to(dev)\n",
    "\n",
    "best_checkpoint_dir = best_trial.checkpoint.value\n",
    "model_state = torch.load(os.path.join(\n",
    "    best_checkpoint_dir, \"checkpoint\"))['model_state_dict']\n",
    "best_trained_model.load_state_dict(model_state)\n",
    "\n",
    "test_acc = calc_acc(best_trained_model, test_dataloader)\n",
    "print(\"\\nBest trial test set accuracy: {}\".format(test_acc))"
   ]
  },
  {
   "cell_type": "markdown",
   "metadata": {
    "id": "pPjvKyZfNL_n"
   },
   "source": [
    "Matches:\n",
    "\n",
    "[0.30456985, 0.15528112, 0.02720025] : MLP2, 30 Epochs, Adam"
   ]
  }
 ],
 "metadata": {
  "accelerator": "GPU",
  "colab": {
   "collapsed_sections": [
    "zUAbnBhatXQT",
    "mNMEBGuOtd5z"
   ],
   "name": "mitstates_tune.ipynb",
   "provenance": [],
   "toc_visible": true
  },
  "kernelspec": {
   "display_name": "Python 3",
   "language": "python",
   "name": "python3"
  },
  "language_info": {
   "codemirror_mode": {
    "name": "ipython",
    "version": 3
   },
   "file_extension": ".py",
   "mimetype": "text/x-python",
   "name": "python",
   "nbconvert_exporter": "python",
   "pygments_lexer": "ipython3",
   "version": "3.7.10"
  }
 },
 "nbformat": 4,
 "nbformat_minor": 4
}
