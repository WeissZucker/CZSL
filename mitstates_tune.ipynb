{
 "cells": [
  {
   "cell_type": "markdown",
   "metadata": {
    "id": "mNMEBGuOtd5z"
   },
   "source": [
    "# MIT dataset"
   ]
  },
  {
   "cell_type": "code",
   "execution_count": 1,
   "metadata": {
    "id": "Gm9YyejSBahW"
   },
   "outputs": [
    {
     "name": "stderr",
     "output_type": "stream",
     "text": [
      "/home/ubuntu/anaconda3/envs/mitstates/lib/python3.7/site-packages/gensim/similarities/__init__.py:15: UserWarning: The gensim.similarities.levenshtein submodule is disabled, because the optional Levenshtein package <https://pypi.org/project/python-Levenshtein/> is unavailable. Install Levenhstein (e.g. `pip install python-Levenshtein`) to suppress this warning.\n",
      "  warnings.warn(msg)\n"
     ]
    },
    {
     "name": "stdout",
     "output_type": "stream",
     "text": [
      "53753 activations loaded\n",
      "#images = 34562\n"
     ]
    }
   ],
   "source": [
    "# import some common libraries\n",
    "import numpy as np\n",
    "import torch\n",
    "import torch.nn as nn\n",
    "from torch.utils.tensorboard import SummaryWriter\n",
    "import os\n",
    "\n",
    "import matplotlib.pyplot as plt\n",
    "from train import train_with_config, train\n",
    "from evaluator import *\n",
<<<<<<< HEAD
    "from model import CompoResnet\n",
=======
    "from model import *\n",
>>>>>>> unified
    "from symnet.utils import dataset\n",
    "import tqdm\n",
    "if torch.cuda.is_available():  \n",
    "  dev = \"cuda:0\" \n",
    "else:  \n",
    "  dev = \"cpu\" \n",
    "  \n",
    "%load_ext autoreload\n",
    "%autoreload 2"
   ]
  },
  {
   "cell_type": "code",
   "execution_count": 19,
   "metadata": {},
   "outputs": [],
   "source": [
    "from transformers import BertTokenizer, BertForMaskedLM"
   ]
  },
  {
   "cell_type": "code",
   "execution_count": 32,
   "metadata": {},
   "outputs": [
    {
     "name": "stderr",
     "output_type": "stream",
     "text": [
      "Some weights of the model checkpoint at bert-large-uncased-whole-word-masking were not used when initializing BertForMaskedLM: ['cls.seq_relationship.weight', 'cls.seq_relationship.bias']\n",
      "- This IS expected if you are initializing BertForMaskedLM from the checkpoint of a model trained on another task or with another architecture (e.g. initializing a BertForSequenceClassification model from a BertForPreTraining model).\n",
      "- This IS NOT expected if you are initializing BertForMaskedLM from the checkpoint of a model that you expect to be exactly identical (initializing a BertForSequenceClassification model from a BertForSequenceClassification model).\n"
     ]
    }
   ],
   "source": [
    "bert_tokenizer = BertTokenizer.from_pretrained('bert-large-uncased-whole-word-masking')\n",
    "bert_model = BertForMaskedLM.from_pretrained('bert-large-uncased-whole-word-masking')\n",
    "# bert_tokenizer = BertTokenizer.from_pretrained('bert-base-uncased')\n",
    "# bert_model = BertForMaskedLM.from_pretrained('bert-base-uncased')"
   ]
  },
  {
   "cell_type": "code",
   "execution_count": 24,
   "metadata": {},
   "outputs": [],
   "source": [
    "def compo_prob(attr, obj, tokenizer, model):\n",
    "  attr_promp = tokenizer(f\"this {obj} is [MASK].\", return_tensors='pt')\n",
    "  attr_mask_loc = list(attr_promp['input_ids'][0]).index(tokenizer.mask_token_id)\n",
    "  obj_promp = tokenizer(f\"this [MASK] is {attr}.\", return_tensors='pt')\n",
    "  obj_mask_loc = list(obj_promp['input_ids'][0]).index(tokenizer.mask_token_id)\n",
    "  with torch.no_grad():\n",
    "    attr_pred = torch.softmax(model(**attr_promp).logits[0][attr_mask_loc].detach(), dim=-1)\n",
    "    obj_pred = torch.softmax(model(**obj_promp).logits[0][obj_mask_loc].detach(), dim=-1)\n",
    "  attr_idx, obj_idx = tokenizer.encode([attr, obj])[1:-1]\n",
    "  attr_prob = attr_pred[attr_idx]\n",
    "  obj_prob = obj_pred[obj_idx]\n",
    "  return attr_prob, obj_prob"
   ]
  },
  {
   "cell_type": "code",
   "execution_count": 28,
   "metadata": {},
   "outputs": [
    {
     "name": "stdout",
     "output_type": "stream",
     "text": [
      "(tensor(0.0151), tensor(0.0003))\n",
      "(tensor(0.0234), tensor(0.0012))\n",
      "(tensor(0.0022), tensor(0.0001))\n",
      "(tensor(6.6761e-05), tensor(0.0004))\n",
      "(tensor(0.0168), tensor(2.7213e-05))\n"
     ]
    }
   ],
   "source": [
    "pairs = [(\"red\", \"apple\"), (\"sweet\", \"apple\"), (\"big\", \"apple\"), (\"rusty\", \"apple\"), (\"ancient\", \"apple\")]\n",
    "for attr, obj in pairs:\n",
    "  print(compo_prob(attr, obj, bert_tokenizer, bert_model))"
   ]
  },
  {
   "cell_type": "code",
   "execution_count": 33,
   "metadata": {},
   "outputs": [
    {
     "name": "stderr",
     "output_type": "stream",
     "text": [
      "100%|██████████| 28175/28175 [2:27:15<00:00,  3.19it/s]  \n"
     ]
    }
   ],
   "source": [
    "attr_scores = torch.ones_like(self.seen_mask, dtype=torch.float)\n",
    "for i in tqdm.tqdm(range(self.attr_class * self.obj_class), total=self.attr_class*self.obj_class):\n",
    "  attr_id = i // self.obj_class\n",
    "  obj_id = i % self.obj_class\n",
    "  if self.unseen_mask_ow[attr_id, obj_id]:\n",
    "    attr, obj = self.attrs[attr_id], self.objs[obj_id]\n",
    "    attr_score, obj_score = compo_prob(attr, obj, bert_tokenizer, bert_model)\n",
    "    attr_scores[attr_id, obj_id] = min(attr_score, obj_score)"
   ]
  },
  {
   "cell_type": "code",
   "execution_count": 34,
   "metadata": {},
   "outputs": [],
   "source": [
    "torch.save(attr_scores, './attr_scores_2.pt')"
   ]
  },
  {
   "cell_type": "code",
   "execution_count": 29,
   "metadata": {},
   "outputs": [
    {
     "data": {
      "text/plain": [
       "tensor(0.0028, device='cuda:0')"
      ]
     },
     "execution_count": 29,
     "metadata": {},
     "output_type": "execute_result"
    }
   ],
   "source": [
    "torch.mean(attr_scores[self.close_mask])"
   ]
  },
  {
   "cell_type": "code",
   "execution_count": 30,
   "metadata": {},
   "outputs": [
    {
     "data": {
      "text/plain": [
       "tensor(0.0007, device='cuda:0')"
      ]
     },
     "execution_count": 30,
     "metadata": {},
     "output_type": "execute_result"
    }
   ],
   "source": [
    "torch.mean(attr_scores[self.unseen_mask_ow])"
   ]
  },
  {
   "cell_type": "code",
   "execution_count": null,
   "metadata": {},
   "outputs": [],
   "source": [
    "seen_attr_scores, _ = torch.sort(attr_scores[self.seen_mask].flatten().cpu())\n",
    "plt.scatter(range(len(seen_attr_scores)), seen_attr_scores)"
   ]
  },
  {
   "cell_type": "code",
   "execution_count": null,
   "metadata": {},
   "outputs": [],
   "source": [
    "unseen_attr_scores, _ = torch.sort(attr_scores[self.unseen_mask_ow].flatten().cpu())\n",
    "plt.scatter(range(len(unseen_attr_scores)), unseen_attr_scores)"
   ]
  },
  {
   "cell_type": "code",
   "execution_count": 8,
   "metadata": {},
   "outputs": [],
   "source": [
    "fscore = torch.load('./fscore.pt')"
   ]
  },
  {
   "cell_type": "code",
   "execution_count": 13,
   "metadata": {},
   "outputs": [],
   "source": [
    "self = evaluator"
   ]
  },
  {
   "cell_type": "code",
   "execution_count": 17,
   "metadata": {},
   "outputs": [
    {
     "data": {
      "text/plain": [
       "(tensor(0.4026, device='cuda:0'), tensor(0.2632, device='cuda:0'))"
      ]
     },
     "execution_count": 17,
     "metadata": {},
     "output_type": "execute_result"
    }
   ],
   "source": [
    "torch.mean(fscore[self.unseen_mask_cw]), torch.mean(fscore[self.unseen_mask_ow])"
   ]
  },
  {
   "cell_type": "code",
   "execution_count": null,
   "metadata": {},
   "outputs": [],
   "source": [
    "unseen_attr_scores, _ = torch.sort(fscore[self.unseen_mask_ow].flatten().cpu())\n",
    "plt.scatter(range(len(unseen_attr_scores)), unseen_attr_scores)"
   ]
  },
  {
   "cell_type": "code",
   "execution_count": 10,
   "metadata": {
    "colab": {
     "base_uri": "https://localhost:8080/"
    },
    "id": "RtyStmYy05Cb",
    "outputId": "acc57faf-cca3-4b8c-de91-3b84f64347fa"
   },
   "outputs": [
    {
     "name": "stdout",
     "output_type": "stream",
     "text": [
      "63440 activations loaded\n",
      "natural split train\n",
      "#images = 30338\n",
      "63440 activations loaded\n",
      "natural split val\n",
      "#images = 10420\n",
      "63440 activations loaded\n",
      "natural split test\n",
      "#images = 12995\n"
     ]
    }
   ],
   "source": [
    "# train [img, attr_id, obj_id, pair_id, img_feature, img, attr_id, obj_id, pair_id, img_feature, aff_mask]\n",
    "# test [img, attr_id, obj_id, pair_id, img_feature, aff_mask]\n",
    "\n",
<<<<<<< HEAD
    "train_dataloader = dataset.get_dataloader('MITg', 'train', batchsize=64, with_image=True, shuffle=True)\n",
    "test_dataloader = dataset.get_dataloader('MITg', 'test', batchsize=64, with_image=True)\n",
    "\n",
    "# train_dataloader = dataset.get_dataloader('UTg', 'train', batchsize=64, with_image=True, shuffle=True)\n",
    "# test_dataloader = dataset.get_dataloader('UTg', 'test', batchsize=64, with_image=True)"
=======
    "train_dataloader = dataset.get_dataloader('MITg', 'train', batchsize=64, with_image=True, shuffle=True, num_workers=4)\n",
    "val_dataloader = dataset.get_dataloader('MITg', 'val', batchsize=64, with_image=True)\n",
    "test_dataloader = dataset.get_dataloader('MITg', 'test', batchsize=64, with_image=True)"
>>>>>>> unified
   ]
  },
  {
   "cell_type": "code",
<<<<<<< HEAD
   "execution_count": 8,
=======
   "execution_count": null,
>>>>>>> unified
   "metadata": {},
   "outputs": [],
   "source": [
    "resnet_name = 'resnet101'\n",
    "# compoResnet = CompoResnetFeatfile(resnet_name, 1).to(dev)\n",
    "compoResnet = CompoResnet(resnet_name, 1).to(dev)\n",
    "\n",
    "optimizer = torch.optim.AdamW(compoResnet.parameters(), lr=0.002)\n",
    "criterion = nn.CrossEntropyLoss()\n",
    "curr_epoch = 0\n",
    "best_auc = 0\n",
    "\n",
    "model_dir = './models/'\n",
<<<<<<< HEAD
    "load_model_name = 'model_14.pt'\n",
    "model_path = None if not load_model_name else os.path.join(model_dir, load_model_name)\n",
=======
    "model_name = \"resnet101\"\n",
    "model_path = '' if not model_name else os.path.join(model_dir, model_name+'.pt')\n",
>>>>>>> unified
    "\n",
    "try:\n",
    "  checkpoint = torch.load(model_path)\n",
    "  compoResnet.load_state_dict(checkpoint['model_state_dict'])\n",
    "  optimizer.load_state_dict(checkpoint['optimizer_state_dict'])\n",
    "  if 'best_auc' in checkpoint:\n",
    "    best_auc = checkpoint['best_auc']\n",
    "  if 'epoch' in checkpoint:\n",
    "    curr_epoch = checkpoint['epoch']\n",
    "  print('Model loaded.')\n",
    "except FileNotFoundError:\n",
    "  pass\n",
    "  \n",
    "logger = SummaryWriter()"
   ]
  },
  {
   "cell_type": "code",
   "execution_count": null,
<<<<<<< HEAD
   "metadata": {},
   "outputs": [],
   "source": [
    "num_epochs = 10\n",
    "batch_size = 64\n",
    "curr_epoch = 0\n",
    "model_name = 'model_ut'\n",
    "train(compoResnet, optimizer, criterion, num_epochs, obj_loss_history, attr_loss_history, batch_size, train_dataloader, \n",
    "      test_dataloader=test_dataloader, curr_epoch=curr_epoch, model_name=model_name, model_dir=model_dir)"
   ]
  },
  {
   "cell_type": "code",
   "execution_count": null,
   "metadata": {},
   "outputs": [],
   "source": [
    "evaluator = CompoResnetEvaluator(test_dataloader, 20)"
   ]
  },
  {
   "cell_type": "code",
   "execution_count": 6,
   "metadata": {},
   "outputs": [
    {
     "name": "stderr",
     "output_type": "stream",
     "text": [
      "100%|██████████| 204/204 [00:31<00:00,  6.38it/s]\n"
     ]
    },
    {
     "name": "stdout",
     "output_type": "stream",
     "text": [
      "A:0.180|O:0.280|CwSeen:0.203|CwUnseen:0.205|CwHM:0.121|CwAUC:0.02645|OpSeen:0.203|OpUnseen:0.060|OpHM:0.062|OpAUC:0.00706|\n"
     ]
    }
   ],
   "source": [
    "obj_acc, attr_acc, report_cw, report_ow = evaluator.eval_model(compoResnet)\n",
    "\n",
    "print('A:{:.3f}|O:{:.3f}|CwSeen:{:.3f}|CwUnseen:{:.3f}|CwHM:{:.3f}|CwAUC:{:.5f}|OpSeen:{:.3f}|OpUnseen:{:.3f}|OpHM:{:.3f}|OpAUC:{:.5f}|'.format(\n",
    "  attr_acc, obj_acc, *report_cw, *report_ow))"
   ]
  },
  {
   "cell_type": "markdown",
   "metadata": {},
   "source": [
    "**Hard masking**"
   ]
  },
  {
   "cell_type": "code",
   "execution_count": null,
   "metadata": {},
   "outputs": [],
   "source": [
    "results = []\n",
    "for t in tqdm.tqdm(np.linspace(0.1, 0.5, 20), total=20):\n",
    "  self.fscore_mask = fscore < t\n",
    "  results.append(eval_model(self, compoResnet))"
   ]
  },
  {
   "cell_type": "code",
   "execution_count": 15,
   "metadata": {},
   "outputs": [],
   "source": [
    "auc = [result[-1][-1] for result in results]"
   ]
  },
  {
   "cell_type": "code",
   "execution_count": 16,
   "metadata": {
    "tags": []
   },
   "outputs": [
    {
     "data": {
      "text/plain": [
       "[<matplotlib.lines.Line2D at 0x7f174731be50>]"
      ]
     },
     "execution_count": 16,
     "metadata": {},
     "output_type": "execute_result"
    },
    {
     "data": {
      "image/png": "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\n",
      "text/plain": [
       "<Figure size 432x288 with 1 Axes>"
      ]
     },
     "metadata": {
      "needs_background": "light"
     },
     "output_type": "display_data"
    }
   ],
   "source": [
    "plt.plot(np.linspace(0.1, 0.5, 20), auc)"
   ]
  },
  {
   "cell_type": "code",
   "execution_count": null,
   "metadata": {},
   "outputs": [],
   "source": [
    "evaluator = CompoResnetEvaluatorFscore(test_dataloader, 20, 0.27, './GoogleNews-vectors-negative300.bin')"
   ]
  },
  {
   "cell_type": "code",
   "execution_count": 18,
   "metadata": {},
   "outputs": [],
   "source": [
    "obj_acc, attr_acc, report_cw, report_ow = results[np.argmax(auc)]"
   ]
  },
  {
   "cell_type": "code",
   "execution_count": 37,
   "metadata": {},
   "outputs": [],
   "source": [
    "evaluator.fscore = torch.load('./fscore.pt')"
   ]
  },
  {
   "cell_type": "code",
   "execution_count": 38,
   "metadata": {},
   "outputs": [
    {
     "name": "stderr",
     "output_type": "stream",
     "text": [
      "100%|██████████| 204/204 [00:27<00:00,  7.41it/s]\n"
     ]
    },
    {
     "name": "stdout",
     "output_type": "stream",
     "text": [
      "A:0.180|O:0.280|CwSeen:0.203|CwUnseen:0.205|CwHM:0.121|CwAUC:0.02645|OpSeen:0.203|OpUnseen:0.080|OpHM:0.073|OpAUC:0.00992|\n"
     ]
    }
   ],
   "source": [
    "obj_acc, attr_acc, report_cw, report_ow  = evaluator.eval_model(compoResnet, 0.435)\n",
    "\n",
    "print('A:{:.3f}|O:{:.3f}|CwSeen:{:.3f}|CwUnseen:{:.3f}|CwHM:{:.3f}|CwAUC:{:.5f}|OpSeen:{:.3f}|OpUnseen:{:.3f}|OpHM:{:.3f}|OpAUC:{:.5f}|'.format(\n",
    "  attr_acc, obj_acc, *report_cw, *report_ow))"
   ]
  },
  {
   "cell_type": "markdown",
   "metadata": {},
   "source": [
    "**Hard masking 2**"
   ]
  },
  {
   "cell_type": "code",
   "execution_count": 24,
   "metadata": {},
   "outputs": [
    {
     "name": "stderr",
     "output_type": "stream",
     "text": [
      "[2021-06-01 16:14:34,816] gensim.models.keyedvectors: loading projection weights from ./GoogleNews-vectors-negative300.bin\n",
      "[2021-06-01 16:15:00,896] gensim.utils: KeyedVectors lifecycle event {'msg': 'loaded (3000000, 300) matrix of type float32 from ./GoogleNews-vectors-negative300.bin', 'binary': True, 'encoding': 'utf8', 'datetime': '2021-06-01T16:15:00.896917', 'gensim': '4.0.1', 'python': '3.7.10 | packaged by conda-forge | (default, Feb 19 2021, 16:07:37) \\n[GCC 9.3.0]', 'platform': 'Linux-5.4.0-1048-aws-x86_64-with-debian-buster-sid', 'event': 'load_word2vec_format'}\n"
     ]
    }
   ],
   "source": [
    "word2vec = KeyedVectors.load_word2vec_format('./GoogleNews-vectors-negative300.bin', binary=True)"
   ]
  },
  {
   "cell_type": "code",
   "execution_count": 25,
   "metadata": {},
   "outputs": [],
   "source": [
    "dset = test_dataloader.dataset\n",
    "attrs = dset.attrs\n",
    "objs = dset.objs\n",
    "w2v_scores = np.zeros((len(attrs), len(objs)))\n",
    "for attr_id in range(len(attrs)):\n",
    "  for obj_id in range(len(objs)):\n",
    "    attr, obj = dset.attrs[attr_id], dset.objs[obj_id]\n",
    "    attr, obj = word2vec[attr], word2vec[obj]\n",
    "    w2v_scores[attr_id, obj_id] = np.dot(attr, obj)"
   ]
  },
  {
   "cell_type": "code",
   "execution_count": 9,
   "metadata": {},
   "outputs": [],
   "source": [
    "evaluator = CompoResnetEvaluatorFscore(test_dataloader, 20, 1e-5, './GoogleNews-vectors-negative300.bin')"
   ]
  },
  {
   "cell_type": "code",
   "execution_count": 27,
   "metadata": {},
   "outputs": [],
   "source": [
    "evaluator.fscore = w2v_scores"
   ]
  },
  {
   "cell_type": "code",
   "execution_count": 35,
   "metadata": {},
   "outputs": [
    {
     "name": "stderr",
     "output_type": "stream",
     "text": [
      "100%|██████████| 204/204 [00:27<00:00,  7.47it/s]\n",
      "100%|██████████| 204/204 [00:27<00:00,  7.45it/s]\n",
      "100%|██████████| 204/204 [00:27<00:00,  7.49it/s]\n",
      "100%|██████████| 204/204 [00:27<00:00,  7.45it/s]\n",
      "100%|██████████| 204/204 [00:27<00:00,  7.39it/s]\n",
      "100%|██████████| 204/204 [00:27<00:00,  7.43it/s]\n",
      "100%|██████████| 204/204 [00:27<00:00,  7.48it/s]\n",
      "100%|██████████| 204/204 [00:27<00:00,  7.46it/s]\n",
      "100%|██████████| 204/204 [00:27<00:00,  7.34it/s]\n",
      "100%|██████████| 204/204 [00:27<00:00,  7.36it/s]\n",
      " 50%|█████     | 10/20 [04:44<04:44, 28.46s/it]\n"
     ]
    }
   ],
   "source": [
    "results = []\n",
    "for t in tqdm.tqdm(np.linspace(0.4, 0.5, 10), total=20):\n",
    "  results.append(evaluator.eval_model(compoResnet, t))\n",
    "auc = [result[-1][-1] for result in results]"
   ]
  },
  {
   "cell_type": "code",
   "execution_count": 36,
   "metadata": {},
   "outputs": [
    {
     "data": {
      "text/plain": [
       "<matplotlib.collections.PathCollection at 0x7f8dd433f090>"
      ]
     },
     "execution_count": 36,
     "metadata": {},
     "output_type": "execute_result"
    },
    {
     "data": {
      "image/png": "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\n",
      "text/plain": [
       "<Figure size 432x288 with 1 Axes>"
      ]
     },
     "metadata": {
      "needs_background": "light"
     },
     "output_type": "display_data"
    }
   ],
   "source": [
    "plt.scatter(np.linspace(0.4, 0.5, 10), auc)"
   ]
  },
  {
   "cell_type": "code",
   "execution_count": 34,
   "metadata": {},
   "outputs": [
    {
     "name": "stderr",
     "output_type": "stream",
     "text": [
      "100%|██████████| 204/204 [00:27<00:00,  7.48it/s]\n"
     ]
    },
    {
     "name": "stdout",
     "output_type": "stream",
     "text": [
      "A:0.180|O:0.280|CwSeen:0.203|CwUnseen:0.205|CwHM:0.121|CwAUC:0.02645|OpSeen:0.202|OpUnseen:0.062|OpHM:0.064|OpAUC:0.00743|\n"
     ]
    }
   ],
   "source": [
    "obj_acc, attr_acc, report_cw, report_ow = evaluator.eval_model(compoResnet, 0.42)\n",
    "\n",
    "print('A:{:.3f}|O:{:.3f}|CwSeen:{:.3f}|CwUnseen:{:.3f}|CwHM:{:.3f}|CwAUC:{:.5f}|OpSeen:{:.3f}|OpUnseen:{:.3f}|OpHM:{:.3f}|OpAUC:{:.5f}|'.format(\n",
    "  attr_acc, obj_acc, *report_cw, *report_ow))"
   ]
  },
  {
   "cell_type": "markdown",
   "metadata": {},
   "source": [
    "Original:                  A:0.180|O:0.280|CwSeen:0.203|CwUnseen:0.205|CwHM:0.121|CwAUC:0.02645|OpSeen:0.203|OpUnseen:0.060|OpHM:0.062|OpAUC:0.00706|\n",
    "My Baseline:               A:0.180|O:0.280|CwSeen:0.203|CwUnseen:0.205|CwHM:0.121|CwAUC:0.02645|OpSeen:0.202|OpUnseen:0.063|OpHM:0.065|OpAUC:0.00793|\n",
    "Compos feasibility score:  A:0.180|O:0.280|CwSeen:0.203|CwUnseen:0.205|CwHM:0.121|CwAUC:0.02645|OpSeen:0.203|OpUnseen:0.080|OpHM:0.073|OpAUC:0.00992|"
   ]
  },
  {
   "cell_type": "markdown",
   "metadata": {},
   "source": [
    "**Bert**"
=======
   "metadata": {},
   "outputs": [],
   "source": [
    "num_epochs = 100\n",
    "batch_size = 64\n",
    "best_auc = train(compoResnet, optimizer, criterion, num_epochs, batch_size, train_dataloader, val_dataloader, logger,\n",
    "      curr_epoch=curr_epoch, best_auc=best_auc, save_path=model_path)\n",
    "curr_epoch += num_epochs\n",
    "print('Best auc:', best_auc)"
>>>>>>> unified
   ]
  },
  {
   "cell_type": "code",
<<<<<<< HEAD
   "execution_count": 5,
   "metadata": {},
   "outputs": [],
   "source": [
    "evaluator = CompoResnetEvaluatorFscore(test_dataloader, 20, 1e-5, './GoogleNews-vectors-negative300.bin')"
   ]
  },
  {
   "cell_type": "code",
   "execution_count": null,
   "metadata": {},
   "outputs": [],
   "source": [
    "results = []\n",
    "for t in tqdm.tqdm(np.linspace(0, 0.001, 20), total=20):\n",
    "  results.append(evaluator.eval_model(compoResnet, t))\n",
    "auc = [result[-1][-1] for result in results]"
=======
   "execution_count": 8,
   "metadata": {},
   "outputs": [],
   "source": [
    "evaluator = Evaluator(test_dataloader, 20)\n",
    "# fscore_evaluator = EvaluatorWithFscore(test_dataloader, 20, fscore_threshold=0.5, word2vec_path='./GoogleNews-vectors-negative300.bin', fscore_path='fscore.pt')"
>>>>>>> unified
   ]
  },
  {
   "cell_type": "code",
<<<<<<< HEAD
   "execution_count": 23,
=======
   "execution_count": 6,
>>>>>>> unified
   "metadata": {},
   "outputs": [
    {
     "name": "stdout",
     "output_type": "stream",
     "text": [
<<<<<<< HEAD
      "53753 activations loaded\n",
      "#images = 34562\n"
=======
      "100%|██████████| 204/204 [01:03<00:00,  3.22it/s]\n"
>>>>>>> unified
     ]
    }
   ],
   "source": [
    "obj_scores = []\n",
    "attr_scores = []\n",
    "compoResnet.eval()\n",
    "for i, batch in tqdm.tqdm(\n",
    "    enumerate(test_dataloader),\n",
    "    total=len(test_dataloader)):\n",
    "  img, attr_id, obj_id = batch[:3]\n",
    "#   _, attr_id, obj_id, _, img = batch[:5]\n",
    "  if len(img) == 1:\n",
    "    # Batchnorm doesn't accept batch with size 1\n",
    "    continue\n",
    "  obj_score, attr_score = compoResnet(img.to(dev))\n",
    "  obj_scores.append(obj_score)\n",
    "  attr_scores.append(attr_score)\n",
    "obj_scores = torch.cat(obj_scores)\n",
    "attr_scores = torch.cat(attr_scores)"
   ]
  },
  {
   "cell_type": "code",
   "execution_count": 9,
   "metadata": {},
   "outputs": [
    {
     "data": {
      "text/plain": [
       "[<matplotlib.lines.Line2D at 0x7f8d1b604c10>]"
      ]
     },
     "execution_count": 23,
     "metadata": {},
     "output_type": "execute_result"
    },
    {
     "data": {
      "image/png": "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\n",
      "text/plain": [
       "<Figure size 432x288 with 1 Axes>"
      ]
     },
     "metadata": {
      "needs_background": "light"
     },
     "output_type": "display_data"
    }
   ],
   "source": [
    "plt.plot(np.linspace(0, 0.001, 20), auc)"
   ]
  },
  {
   "cell_type": "code",
   "execution_count": 21,
   "metadata": {},
   "outputs": [
    {
     "name": "stderr",
     "output_type": "stream",
     "text": [
<<<<<<< HEAD
      "100%|██████████| 204/204 [00:27<00:00,  7.40it/s]\n"
=======
      "A:0.1936|O:0.3117|CwSeen:0.2450|CwUnseen:0.2304|CwHM:0.1462|CwAUC:0.0369|OpSeen:0.2450|OpUnseen:0.0831|OpHM:0.0829|OpAUC:0.0121|"
>>>>>>> unified
     ]
    }
   ],
   "source": [
    "summary = evaluator.eval_primitive_scores(attr_scores, obj_scores, topk=1)\n",
    "for key, value in summary.items():\n",
    "  print(f'{key}:{value:.4f}|', end='')"
   ]
  },
  {
   "cell_type": "code",
   "execution_count": 114,
   "metadata": {},
   "outputs": [
    {
     "name": "stdout",
     "output_type": "stream",
     "text": [
<<<<<<< HEAD
      "A:0.180|O:0.280|CwSeen:0.203|CwUnseen:0.205|CwHM:0.121|CwAUC:0.02645|OpSeen:0.203|OpUnseen:0.059|OpHM:0.062|OpAUC:0.00681|\n"
=======
      "100%|██████████| 20/20 [00:55<00:00,  2.80s/it]\n"
>>>>>>> unified
     ]
    }
   ],
   "source": [
<<<<<<< HEAD
    "obj_acc, attr_acc, report_cw, report_ow  = evaluator.eval_model(compoResnet, 0.00001)\n",
    "\n",
    "print('A:{:.3f}|O:{:.3f}|CwSeen:{:.3f}|CwUnseen:{:.3f}|CwHM:{:.3f}|CwAUC:{:.5f}|OpSeen:{:.3f}|OpUnseen:{:.3f}|OpHM:{:.3f}|OpAUC:{:.5f}|'.format(\n",
    "  attr_acc, obj_acc, *report_cw, *report_ow))"
=======
    "results = []\n",
    "for t in tqdm.tqdm(np.linspace(0.1, 0.5, 20), total=20):\n",
    "  fscore_evaluator.update_threshold(t)\n",
    "  results.append(fscore_evaluator.eval_primitive_scores(attr_scores, obj_scores))"
>>>>>>> unified
   ]
  },
  {
   "cell_type": "markdown",
   "metadata": {},
   "source": [
    "**Without applying Fscore**"
   ]
  },
  {
   "cell_type": "code",
   "execution_count": 115,
   "metadata": {},
   "outputs": [
    {
     "data": {
      "text/plain": [
       "[<matplotlib.lines.Line2D at 0x7fb848804a10>]"
      ]
     },
     "execution_count": 115,
     "metadata": {},
     "output_type": "execute_result"
    },
    {
     "data": {
      "image/png": "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\n",
      "text/plain": [
       "<Figure size 432x288 with 1 Axes>"
      ]
     },
     "metadata": {
      "needs_background": "light"
     },
     "output_type": "display_data"
    }
   ],
   "source": [
    "auc = [result['OpAUC'] for result in results]\n",
    "plt.plot(np.linspace(0.1, 0.5, 20), auc)"
   ]
  },
  {
   "cell_type": "code",
   "execution_count": 116,
   "metadata": {},
   "outputs": [
    {
     "name": "stdout",
     "output_type": "stream",
     "text": [
      "A:0.1715|O:0.2696|CwSeen:0.1853|CwUnseen:0.1933|CwHM:0.1106|CwAUC:0.0220|OpSeen:0.1853|OpUnseen:0.0795|OpHM:0.0678|OpAUC:0.0083|"
     ]
    }
   ],
   "source": [
    "summary = results[np.argmax(auc)]\n",
    "for key, value in summary.items():\n",
    "  print(f'{key}:{value:.4f}|', end='')"
   ]
  },
  {
   "cell_type": "code",
   "execution_count": null,
   "metadata": {},
   "outputs": [],
   "source": [
    "A:0.180|O:0.288|CwSeen:0.241|CwUnseen:0.222|CwHM:0.148|CwAUC:0.03786|OpSeen:0.241|OpUnseen:0.104|OpHM:0.099|OpAUC:0.01645|"
   ]
  },
  {
   "cell_type": "code",
   "execution_count": 22,
   "metadata": {},
   "outputs": [
    {
     "data": {
      "text/plain": [
       "[<matplotlib.lines.Line2D at 0x7f8db46f4750>]"
      ]
     },
     "execution_count": 22,
     "metadata": {},
     "output_type": "execute_result"
    },
    {
     "data": {
      "image/png": "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\n",
      "text/plain": [
       "<Figure size 432x288 with 4 Axes>"
      ]
     },
     "metadata": {
      "needs_background": "light"
     },
     "output_type": "display_data"
    }
   ],
   "source": [
    "plt.subplot(2, 2, 1)\n",
    "plt.plot(obj_loss_history[0])\n",
    "plt.subplot(2, 2, 2)\n",
    "plt.plot(obj_loss_history[1])\n",
    "plt.subplot(2, 2, 3)\n",
    "plt.plot(attr_loss_history[0])\n",
    "plt.subplot(2, 2, 4)\n",
    "plt.plot(attr_loss_history[1])"
   ]
  },
  {
   "cell_type": "code",
   "execution_count": null,
   "metadata": {
    "id": "iQfa8FFXGZd4"
   },
   "outputs": [],
   "source": [
    "config = {\n",
    "    \"lr\": tune.loguniform(1e-4, 1e-1),\n",
    "    \"resnet\": tune.choice(['resnet18', 'resnet50', 'resnet101']),\n",
    "    \"num_mlp_layers\": tune.choice([1,2,4,6]),\n",
    "}"
   ]
  },
  {
   "cell_type": "code",
   "execution_count": null,
   "metadata": {
    "colab": {
     "base_uri": "https://localhost:8080/"
    },
    "id": "jcs6yz64H1-K",
    "outputId": "36edb0ab-b5db-4da4-bd59-37adeab1ad26"
   },
   "outputs": [],
   "source": [
    "num_samples = 12\n",
    "num_epochs = 6\n",
    "scheduler = ASHAScheduler(\n",
    "        metric=\"loss\",\n",
    "        mode=\"min\",\n",
    "        max_t=num_epochs,\n",
    "        grace_period=1,\n",
    "        reduction_factor=2)\n",
    "reporter = CLIReporter(metric_columns=[\"loss\", \"accuracy\", \"training_iteration\"])\n",
    "result = tune.run(\n",
    "    partial(train_with_config, num_epochs=num_epochs),\n",
    "    resources_per_trial={\"cpu\": 1, \"gpu\": 0.32},\n",
    "    config=config,\n",
    "    num_samples=num_samples,\n",
    "    scheduler=scheduler,\n",
    "    progress_reporter=reporter)"
   ]
  },
  {
   "cell_type": "code",
   "execution_count": null,
   "metadata": {
    "id": "7TwtaoRxPuqT"
   },
   "outputs": [],
   "source": [
    "best_trial = result.get_best_trial(\"loss\", \"min\", \"last\")\n",
    "print(\"Best trial config: {}\".format(best_trial.config))\n",
    "print(\"Best trial final validation loss: {}\".format(\n",
    "    best_trial.last_result[\"loss\"]))\n",
    "print(\"Best trial final validation accuracy: {}\".format(\n",
    "    best_trial.last_result[\"accuracy\"]))\n",
    "\n",
    "resnet = frozen(torch.hub.load('pytorch/vision:v0.9.0', best_trial.config[\"resnet\"], pretrained=True))\n",
    "best_mlp = partial(HalvingMLP, num_layers=best_trial.config[\"num_mlp_layers\"])\n",
    "best_trained_model = CompoResnet(resnet, obj_class, attr_class, best_mlp).to(dev)\n",
    "\n",
    "best_checkpoint_dir = best_trial.checkpoint.value\n",
    "model_state = torch.load(os.path.join(\n",
    "    best_checkpoint_dir, \"checkpoint\"))['model_state_dict']\n",
    "best_trained_model.load_state_dict(model_state)\n",
    "\n",
    "test_acc = calc_acc(best_trained_model, test_dataloader)\n",
    "print(\"\\nBest trial test set accuracy: {}\".format(test_acc))"
   ]
  },
  {
   "cell_type": "markdown",
   "metadata": {
    "id": "pPjvKyZfNL_n"
   },
   "source": [
    "Matches:\n",
    "\n",
    "[0.30456985, 0.15528112, 0.02720025] : MLP2, 30 Epochs, Adam"
   ]
  },
  {
   "cell_type": "markdown",
   "metadata": {},
   "source": [
    "### UT Zappos"
   ]
  },
  {
   "cell_type": "code",
   "execution_count": null,
   "metadata": {},
   "outputs": [],
   "source": []
  }
 ],
 "metadata": {
  "accelerator": "GPU",
  "colab": {
   "collapsed_sections": [
    "zUAbnBhatXQT",
    "mNMEBGuOtd5z"
   ],
   "name": "mitstates_tune.ipynb",
   "provenance": [],
   "toc_visible": true
  },
  "kernelspec": {
   "display_name": "Python 3",
   "language": "python",
   "name": "python3"
  },
  "language_info": {
   "codemirror_mode": {
    "name": "ipython",
    "version": 3
   },
   "file_extension": ".py",
   "mimetype": "text/x-python",
   "name": "python",
   "nbconvert_exporter": "python",
   "pygments_lexer": "ipython3",
   "version": "3.7.10"
  }
 },
 "nbformat": 4,
 "nbformat_minor": 4
}
