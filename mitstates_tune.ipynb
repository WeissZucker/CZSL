{
 "cells": [
  {
   "cell_type": "markdown",
   "metadata": {
    "id": "mNMEBGuOtd5z"
   },
   "source": [
    "# MIT dataset"
   ]
  },
  {
   "cell_type": "code",
   "execution_count": 1,
   "metadata": {
    "id": "Gm9YyejSBahW"
   },
   "outputs": [
    {
     "name": "stderr",
     "output_type": "stream",
     "text": [
      "/home/ubuntu/anaconda3/envs/mitstates/lib/python3.7/site-packages/gensim/similarities/__init__.py:15: UserWarning: The gensim.similarities.levenshtein submodule is disabled, because the optional Levenshtein package <https://pypi.org/project/python-Levenshtein/> is unavailable. Install Levenhstein (e.g. `pip install python-Levenshtein`) to suppress this warning.\n",
      "  warnings.warn(msg)\n"
     ]
    },
    {
     "name": "stdout",
     "output_type": "stream",
     "text": [
      "53753 activations loaded\n",
      "#images = 34562\n"
     ]
    }
   ],
   "source": [
    "# import some common libraries\n",
    "import numpy as np\n",
    "import torch\n",
    "import torch.nn as nn\n",
    "import os\n",
    "\n",
    "import matplotlib.pyplot as plt\n",
    "from train import train_with_config, train\n",
    "from evaluator import *\n",
    "from model import CompoResnet\n",
    "from symnet.utils import dataset\n",
    "import tqdm\n",
    "if torch.cuda.is_available():  \n",
    "  dev = \"cuda:0\" \n",
    "else:  \n",
    "  dev = \"cpu\" \n",
    "  \n",
    "%load_ext autoreload\n",
    "%autoreload 2"
   ]
  },
  {
   "cell_type": "code",
   "execution_count": 19,
   "metadata": {},
   "outputs": [],
   "source": [
    "from transformers import BertTokenizer, BertForMaskedLM"
   ]
  },
  {
   "cell_type": "code",
   "execution_count": 32,
   "metadata": {},
   "outputs": [
    {
     "name": "stderr",
     "output_type": "stream",
     "text": [
      "Some weights of the model checkpoint at bert-large-uncased-whole-word-masking were not used when initializing BertForMaskedLM: ['cls.seq_relationship.weight', 'cls.seq_relationship.bias']\n",
      "- This IS expected if you are initializing BertForMaskedLM from the checkpoint of a model trained on another task or with another architecture (e.g. initializing a BertForSequenceClassification model from a BertForPreTraining model).\n",
      "- This IS NOT expected if you are initializing BertForMaskedLM from the checkpoint of a model that you expect to be exactly identical (initializing a BertForSequenceClassification model from a BertForSequenceClassification model).\n"
     ]
    }
   ],
   "source": [
    "bert_tokenizer = BertTokenizer.from_pretrained('bert-large-uncased-whole-word-masking')\n",
    "bert_model = BertForMaskedLM.from_pretrained('bert-large-uncased-whole-word-masking')\n",
    "# bert_tokenizer = BertTokenizer.from_pretrained('bert-base-uncased')\n",
    "# bert_model = BertForMaskedLM.from_pretrained('bert-base-uncased')"
   ]
  },
  {
   "cell_type": "code",
   "execution_count": 24,
   "metadata": {},
   "outputs": [],
   "source": [
    "def compo_prob(attr, obj, tokenizer, model):\n",
    "  attr_promp = tokenizer(f\"this {obj} is [MASK].\", return_tensors='pt')\n",
    "  attr_mask_loc = list(attr_promp['input_ids'][0]).index(tokenizer.mask_token_id)\n",
    "  obj_promp = tokenizer(f\"this [MASK] is {attr}.\", return_tensors='pt')\n",
    "  obj_mask_loc = list(obj_promp['input_ids'][0]).index(tokenizer.mask_token_id)\n",
    "  with torch.no_grad():\n",
    "    attr_pred = torch.softmax(model(**attr_promp).logits[0][attr_mask_loc].detach(), dim=-1)\n",
    "    obj_pred = torch.softmax(model(**obj_promp).logits[0][obj_mask_loc].detach(), dim=-1)\n",
    "  attr_idx, obj_idx = tokenizer.encode([attr, obj])[1:-1]\n",
    "  attr_prob = attr_pred[attr_idx]\n",
    "  obj_prob = obj_pred[obj_idx]\n",
    "  return attr_prob, obj_prob"
   ]
  },
  {
   "cell_type": "code",
   "execution_count": 28,
   "metadata": {},
   "outputs": [
    {
     "name": "stdout",
     "output_type": "stream",
     "text": [
      "(tensor(0.0151), tensor(0.0003))\n",
      "(tensor(0.0234), tensor(0.0012))\n",
      "(tensor(0.0022), tensor(0.0001))\n",
      "(tensor(6.6761e-05), tensor(0.0004))\n",
      "(tensor(0.0168), tensor(2.7213e-05))\n"
     ]
    }
   ],
   "source": [
    "pairs = [(\"red\", \"apple\"), (\"sweet\", \"apple\"), (\"big\", \"apple\"), (\"rusty\", \"apple\"), (\"ancient\", \"apple\")]\n",
    "for attr, obj in pairs:\n",
    "  print(compo_prob(attr, obj, bert_tokenizer, bert_model))"
   ]
  },
  {
   "cell_type": "code",
   "execution_count": 33,
   "metadata": {},
   "outputs": [
    {
     "name": "stderr",
     "output_type": "stream",
     "text": [
      "100%|██████████| 28175/28175 [2:27:15<00:00,  3.19it/s]  \n"
     ]
    }
   ],
   "source": [
    "attr_scores = torch.ones_like(self.seen_mask, dtype=torch.float)\n",
    "for i in tqdm.tqdm(range(self.attr_class * self.obj_class), total=self.attr_class*self.obj_class):\n",
    "  attr_id = i // self.obj_class\n",
    "  obj_id = i % self.obj_class\n",
    "  if self.unseen_mask_ow[attr_id, obj_id]:\n",
    "    attr, obj = self.attrs[attr_id], self.objs[obj_id]\n",
    "    attr_score, obj_score = compo_prob(attr, obj, bert_tokenizer, bert_model)\n",
    "    attr_scores[attr_id, obj_id] = min(attr_score, obj_score)"
   ]
  },
  {
   "cell_type": "code",
   "execution_count": 34,
   "metadata": {},
   "outputs": [],
   "source": [
    "torch.save(attr_scores, './attr_scores_2.pt')"
   ]
  },
  {
   "cell_type": "code",
   "execution_count": 29,
   "metadata": {},
   "outputs": [
    {
     "data": {
      "text/plain": [
       "tensor(0.0028, device='cuda:0')"
      ]
     },
     "execution_count": 29,
     "metadata": {},
     "output_type": "execute_result"
    }
   ],
   "source": [
    "torch.mean(attr_scores[self.close_mask])"
   ]
  },
  {
   "cell_type": "code",
   "execution_count": 30,
   "metadata": {},
   "outputs": [
    {
     "data": {
      "text/plain": [
       "tensor(0.0007, device='cuda:0')"
      ]
     },
     "execution_count": 30,
     "metadata": {},
     "output_type": "execute_result"
    }
   ],
   "source": [
    "torch.mean(attr_scores[self.unseen_mask_ow])"
   ]
  },
  {
   "cell_type": "code",
   "execution_count": null,
   "metadata": {},
   "outputs": [],
   "source": [
    "seen_attr_scores, _ = torch.sort(attr_scores[self.seen_mask].flatten().cpu())\n",
    "plt.scatter(range(len(seen_attr_scores)), seen_attr_scores)"
   ]
  },
  {
   "cell_type": "code",
   "execution_count": null,
   "metadata": {},
   "outputs": [],
   "source": [
    "unseen_attr_scores, _ = torch.sort(attr_scores[self.unseen_mask_ow].flatten().cpu())\n",
    "plt.scatter(range(len(unseen_attr_scores)), unseen_attr_scores)"
   ]
  },
  {
   "cell_type": "code",
   "execution_count": 8,
   "metadata": {},
   "outputs": [],
   "source": [
    "fscore = torch.load('./fscore.pt')"
   ]
  },
  {
   "cell_type": "code",
   "execution_count": 13,
   "metadata": {},
   "outputs": [],
   "source": [
    "self = evaluator"
   ]
  },
  {
   "cell_type": "code",
   "execution_count": 17,
   "metadata": {},
   "outputs": [
    {
     "data": {
      "text/plain": [
       "(tensor(0.4026, device='cuda:0'), tensor(0.2632, device='cuda:0'))"
      ]
     },
     "execution_count": 17,
     "metadata": {},
     "output_type": "execute_result"
    }
   ],
   "source": [
    "torch.mean(fscore[self.unseen_mask_cw]), torch.mean(fscore[self.unseen_mask_ow])"
   ]
  },
  {
   "cell_type": "code",
   "execution_count": null,
   "metadata": {},
   "outputs": [],
   "source": [
    "unseen_attr_scores, _ = torch.sort(fscore[self.unseen_mask_ow].flatten().cpu())\n",
    "plt.scatter(range(len(unseen_attr_scores)), unseen_attr_scores)"
   ]
  },
  {
   "cell_type": "code",
   "execution_count": 10,
   "metadata": {
    "colab": {
     "base_uri": "https://localhost:8080/"
    },
    "id": "RtyStmYy05Cb",
    "outputId": "acc57faf-cca3-4b8c-de91-3b84f64347fa"
   },
   "outputs": [
    {
     "name": "stdout",
     "output_type": "stream",
     "text": [
      "53753 activations loaded\n",
      "natural split train\n",
      "#images = 30338\n",
      "53753 activations loaded\n",
      "natural split test\n",
      "#images = 12995\n"
     ]
    }
   ],
   "source": [
    "# train [img, attr_id, obj_id, pair_id, img_feature, img, attr_id, obj_id, pair_id, img_feature, aff_mask]\n",
    "# test [img, attr_id, obj_id, pair_id, img_feature, aff_mask]\n",
    "\n",
    "train_dataloader = dataset.get_dataloader('MITg', 'train', batchsize=64, with_image=True, shuffle=True)\n",
    "test_dataloader = dataset.get_dataloader('MITg', 'test', batchsize=64, with_image=True)\n",
    "\n",
    "# train_dataloader = dataset.get_dataloader('UTg', 'train', batchsize=64, with_image=True, shuffle=True)\n",
    "# test_dataloader = dataset.get_dataloader('UTg', 'test', batchsize=64, with_image=True)"
   ]
  },
  {
   "cell_type": "code",
   "execution_count": 8,
   "metadata": {},
   "outputs": [
    {
     "name": "stderr",
     "output_type": "stream",
     "text": [
      "Using cache found in /home/ubuntu/.cache/torch/hub/pytorch_vision_v0.9.0\n"
     ]
    }
   ],
   "source": [
    "num_mlp_layers = 1\n",
    "resnet_name = 'resnet18'\n",
    "compoResnet = CompoResnet(resnet_name, num_mlp_layers).to(dev)\n",
    "\n",
    "obj_loss_history = [[],[]]\n",
    "attr_loss_history = [[],[]]\n",
    "optimizer = torch.optim.AdamW(compoResnet.parameters(), lr=0.0015)\n",
    "criterion = nn.CrossEntropyLoss()\n",
    "curr_epoch = 0\n",
    "\n",
    "model_dir = './models/'\n",
    "load_model_name = 'model_14.pt'\n",
    "model_path = None if not load_model_name else os.path.join(model_dir, load_model_name)\n",
    "\n",
    "if model_path:\n",
    "  #checkpoint = torch.load(model_path), map_location=torch.device('cpu'))\n",
    "  checkpoint = torch.load(model_path)\n",
    "  compoResnet.load_state_dict(checkpoint['model_state_dict'])\n",
    "  optimizer.load_state_dict(checkpoint['optimizer_state_dict'])\n",
    "  obj_loss_history = checkpoint['obj_loss']\n",
    "  attr_loss_history = checkpoint['attr_loss']"
   ]
  },
  {
   "cell_type": "code",
   "execution_count": null,
   "metadata": {},
   "outputs": [],
   "source": [
    "num_epochs = 10\n",
    "batch_size = 64\n",
    "curr_epoch = 0\n",
    "model_name = 'model_ut'\n",
    "train(compoResnet, optimizer, criterion, num_epochs, obj_loss_history, attr_loss_history, batch_size, train_dataloader, \n",
    "      test_dataloader=test_dataloader, curr_epoch=curr_epoch, model_name=model_name, model_dir=model_dir)"
   ]
  },
  {
   "cell_type": "code",
   "execution_count": null,
   "metadata": {},
   "outputs": [],
   "source": [
    "evaluator = CompoResnetEvaluator(test_dataloader, 20)"
   ]
  },
  {
   "cell_type": "code",
   "execution_count": 6,
   "metadata": {},
   "outputs": [
    {
     "name": "stderr",
     "output_type": "stream",
     "text": [
      "100%|██████████| 204/204 [00:31<00:00,  6.38it/s]\n"
     ]
    },
    {
     "name": "stdout",
     "output_type": "stream",
     "text": [
      "A:0.180|O:0.280|CwSeen:0.203|CwUnseen:0.205|CwHM:0.121|CwAUC:0.02645|OpSeen:0.203|OpUnseen:0.060|OpHM:0.062|OpAUC:0.00706|\n"
     ]
    }
   ],
   "source": [
    "obj_acc, attr_acc, report_cw, report_ow = evaluator.eval_model(compoResnet)\n",
    "\n",
    "print('A:{:.3f}|O:{:.3f}|CwSeen:{:.3f}|CwUnseen:{:.3f}|CwHM:{:.3f}|CwAUC:{:.5f}|OpSeen:{:.3f}|OpUnseen:{:.3f}|OpHM:{:.3f}|OpAUC:{:.5f}|'.format(\n",
    "  attr_acc, obj_acc, *report_cw, *report_ow))"
   ]
  },
  {
   "cell_type": "markdown",
   "metadata": {},
   "source": [
    "**Hard masking**"
   ]
  },
  {
   "cell_type": "code",
   "execution_count": null,
   "metadata": {},
   "outputs": [],
   "source": [
    "results = []\n",
    "for t in tqdm.tqdm(np.linspace(0.1, 0.5, 20), total=20):\n",
    "  self.fscore_mask = fscore < t\n",
    "  results.append(eval_model(self, compoResnet))"
   ]
  },
  {
   "cell_type": "code",
   "execution_count": 15,
   "metadata": {},
   "outputs": [],
   "source": [
    "auc = [result[-1][-1] for result in results]"
   ]
  },
  {
   "cell_type": "code",
   "execution_count": 16,
   "metadata": {
    "tags": []
   },
   "outputs": [
    {
     "data": {
      "text/plain": [
       "[<matplotlib.lines.Line2D at 0x7f174731be50>]"
      ]
     },
     "execution_count": 16,
     "metadata": {},
     "output_type": "execute_result"
    },
    {
     "data": {
      "image/png": "[encoded data removed]",
      "text/plain": [
       "<Figure size 432x288 with 1 Axes>"
      ]
     },
     "metadata": {
      "needs_background": "light"
     },
     "output_type": "display_data"
    }
   ],
   "source": [
    "plt.plot(np.linspace(0.1, 0.5, 20), auc)"
   ]
  },
  {
   "cell_type": "code",
   "execution_count": null,
   "metadata": {},
   "outputs": [],
   "source": [
    "evaluator = CompoResnetEvaluatorFscore(test_dataloader, 20, 0.27, './GoogleNews-vectors-negative300.bin')"
   ]
  },
  {
   "cell_type": "code",
   "execution_count": 18,
   "metadata": {},
   "outputs": [],
   "source": [
    "obj_acc, attr_acc, report_cw, report_ow = results[np.argmax(auc)]"
   ]
  },
  {
   "cell_type": "code",
   "execution_count": 37,
   "metadata": {},
   "outputs": [],
   "source": [
    "evaluator.fscore = torch.load('./fscore.pt')"
   ]
  },
  {
   "cell_type": "code",
   "execution_count": 38,
   "metadata": {},
   "outputs": [
    {
     "name": "stderr",
     "output_type": "stream",
     "text": [
      "100%|██████████| 204/204 [00:27<00:00,  7.41it/s]\n"
     ]
    },
    {
     "name": "stdout",
     "output_type": "stream",
     "text": [
      "A:0.180|O:0.280|CwSeen:0.203|CwUnseen:0.205|CwHM:0.121|CwAUC:0.02645|OpSeen:0.203|OpUnseen:0.080|OpHM:0.073|OpAUC:0.00992|\n"
     ]
    }
   ],
   "source": [
    "obj_acc, attr_acc, report_cw, report_ow  = evaluator.eval_model(compoResnet, 0.435)\n",
    "\n",
    "print('A:{:.3f}|O:{:.3f}|CwSeen:{:.3f}|CwUnseen:{:.3f}|CwHM:{:.3f}|CwAUC:{:.5f}|OpSeen:{:.3f}|OpUnseen:{:.3f}|OpHM:{:.3f}|OpAUC:{:.5f}|'.format(\n",
    "  attr_acc, obj_acc, *report_cw, *report_ow))"
   ]
  },
  {
   "cell_type": "markdown",
   "metadata": {},
   "source": [
    "**Hard masking 2**"
   ]
  },
  {
   "cell_type": "code",
   "execution_count": 24,
   "metadata": {},
   "outputs": [
    {
     "name": "stderr",
     "output_type": "stream",
     "text": [
      "[2021-06-01 16:14:34,816] gensim.models.keyedvectors: loading projection weights from ./GoogleNews-vectors-negative300.bin\n",
      "[2021-06-01 16:15:00,896] gensim.utils: KeyedVectors lifecycle event {'msg': 'loaded (3000000, 300) matrix of type float32 from ./GoogleNews-vectors-negative300.bin', 'binary': True, 'encoding': 'utf8', 'datetime': '2021-06-01T16:15:00.896917', 'gensim': '4.0.1', 'python': '3.7.10 | packaged by conda-forge | (default, Feb 19 2021, 16:07:37) \\n[GCC 9.3.0]', 'platform': 'Linux-5.4.0-1048-aws-x86_64-with-debian-buster-sid', 'event': 'load_word2vec_format'}\n"
     ]
    }
   ],
   "source": [
    "word2vec = KeyedVectors.load_word2vec_format('./GoogleNews-vectors-negative300.bin', binary=True)"
   ]
  },
  {
   "cell_type": "code",
   "execution_count": 25,
   "metadata": {},
   "outputs": [],
   "source": [
    "dset = test_dataloader.dataset\n",
    "attrs = dset.attrs\n",
    "objs = dset.objs\n",
    "w2v_scores = np.zeros((len(attrs), len(objs)))\n",
    "for attr_id in range(len(attrs)):\n",
    "  for obj_id in range(len(objs)):\n",
    "    attr, obj = dset.attrs[attr_id], dset.objs[obj_id]\n",
    "    attr, obj = word2vec[attr], word2vec[obj]\n",
    "    w2v_scores[attr_id, obj_id] = np.dot(attr, obj)"
   ]
  },
  {
   "cell_type": "code",
   "execution_count": 9,
   "metadata": {},
   "outputs": [],
   "source": [
    "evaluator = CompoResnetEvaluatorFscore(test_dataloader, 20, 1e-5, './GoogleNews-vectors-negative300.bin')"
   ]
  },
  {
   "cell_type": "code",
   "execution_count": 27,
   "metadata": {},
   "outputs": [],
   "source": [
    "evaluator.fscore = w2v_scores"
   ]
  },
  {
   "cell_type": "code",
   "execution_count": 35,
   "metadata": {},
   "outputs": [
    {
     "name": "stderr",
     "output_type": "stream",
     "text": [
      "100%|██████████| 204/204 [00:27<00:00,  7.47it/s]\n",
      "100%|██████████| 204/204 [00:27<00:00,  7.45it/s]\n",
      "100%|██████████| 204/204 [00:27<00:00,  7.49it/s]\n",
      "100%|██████████| 204/204 [00:27<00:00,  7.45it/s]\n",
      "100%|██████████| 204/204 [00:27<00:00,  7.39it/s]\n",
      "100%|██████████| 204/204 [00:27<00:00,  7.43it/s]\n",
      "100%|██████████| 204/204 [00:27<00:00,  7.48it/s]\n",
      "100%|██████████| 204/204 [00:27<00:00,  7.46it/s]\n",
      "100%|██████████| 204/204 [00:27<00:00,  7.34it/s]\n",
      "100%|██████████| 204/204 [00:27<00:00,  7.36it/s]\n",
      " 50%|█████     | 10/20 [04:44<04:44, 28.46s/it]\n"
     ]
    }
   ],
   "source": [
    "results = []\n",
    "for t in tqdm.tqdm(np.linspace(0.4, 0.5, 10), total=20):\n",
    "  results.append(evaluator.eval_model(compoResnet, t))\n",
    "auc = [result[-1][-1] for result in results]"
   ]
  },
  {
   "cell_type": "code",
   "execution_count": 36,
   "metadata": {},
   "outputs": [
    {
     "data": {
      "text/plain": [
       "<matplotlib.collections.PathCollection at 0x7f8dd433f090>"
      ]
     },
     "execution_count": 36,
     "metadata": {},
     "output_type": "execute_result"
    },
    {
     "data": {
      "image/png": "[encoded data removed]",
      "text/plain": [
       "<Figure size 432x288 with 1 Axes>"
      ]
     },
     "metadata": {
      "needs_background": "light"
     },
     "output_type": "display_data"
    }
   ],
   "source": [
    "plt.scatter(np.linspace(0.4, 0.5, 10), auc)"
   ]
  },
  {
   "cell_type": "code",
   "execution_count": 34,
   "metadata": {},
   "outputs": [
    {
     "name": "stderr",
     "output_type": "stream",
     "text": [
      "100%|██████████| 204/204 [00:27<00:00,  7.48it/s]\n"
     ]
    },
    {
     "name": "stdout",
     "output_type": "stream",
     "text": [
      "A:0.180|O:0.280|CwSeen:0.203|CwUnseen:0.205|CwHM:0.121|CwAUC:0.02645|OpSeen:0.202|OpUnseen:0.062|OpHM:0.064|OpAUC:0.00743|\n"
     ]
    }
   ],
   "source": [
    "obj_acc, attr_acc, report_cw, report_ow = evaluator.eval_model(compoResnet, 0.42)\n",
    "\n",
    "print('A:{:.3f}|O:{:.3f}|CwSeen:{:.3f}|CwUnseen:{:.3f}|CwHM:{:.3f}|CwAUC:{:.5f}|OpSeen:{:.3f}|OpUnseen:{:.3f}|OpHM:{:.3f}|OpAUC:{:.5f}|'.format(\n",
    "  attr_acc, obj_acc, *report_cw, *report_ow))"
   ]
  },
  {
   "cell_type": "markdown",
   "metadata": {},
   "source": [
    "Original:                  A:0.180|O:0.280|CwSeen:0.203|CwUnseen:0.205|CwHM:0.121|CwAUC:0.02645|OpSeen:0.203|OpUnseen:0.060|OpHM:0.062|OpAUC:0.00706|\n",
    "My Baseline:               A:0.180|O:0.280|CwSeen:0.203|CwUnseen:0.205|CwHM:0.121|CwAUC:0.02645|OpSeen:0.202|OpUnseen:0.063|OpHM:0.065|OpAUC:0.00793|\n",
    "Compos feasibility score:  A:0.180|O:0.280|CwSeen:0.203|CwUnseen:0.205|CwHM:0.121|CwAUC:0.02645|OpSeen:0.203|OpUnseen:0.080|OpHM:0.073|OpAUC:0.00992|"
   ]
  },
  {
   "cell_type": "markdown",
   "metadata": {},
   "source": [
    "**Bert**"
   ]
  },
  {
   "cell_type": "code",
   "execution_count": 5,
   "metadata": {},
   "outputs": [],
   "source": [
    "evaluator = CompoResnetEvaluatorFscore(test_dataloader, 20, 1e-5, './GoogleNews-vectors-negative300.bin')"
   ]
  },
  {
   "cell_type": "code",
   "execution_count": null,
   "metadata": {},
   "outputs": [],
   "source": [
    "results = []\n",
    "for t in tqdm.tqdm(np.linspace(0, 0.001, 20), total=20):\n",
    "  results.append(evaluator.eval_model(compoResnet, t))\n",
    "auc = [result[-1][-1] for result in results]"
   ]
  },
  {
   "cell_type": "code",
   "execution_count": 23,
   "metadata": {},
   "outputs": [
    {
     "name": "stdout",
     "output_type": "stream",
     "text": [
      "53753 activations loaded\n",
      "#images = 34562\n"
     ]
    },
    {
     "data": {
      "text/plain": [
       "[<matplotlib.lines.Line2D at 0x7f8d1b604c10>]"
      ]
     },
     "execution_count": 23,
     "metadata": {},
     "output_type": "execute_result"
    },
    {
     "data": {
      "image/png": "[encoded data removed]",
      "text/plain": [
       "<Figure size 432x288 with 1 Axes>"
      ]
     },
     "metadata": {
      "needs_background": "light"
     },
     "output_type": "display_data"
    }
   ],
   "source": [
    "plt.plot(np.linspace(0, 0.001, 20), auc)"
   ]
  },
  {
   "cell_type": "code",
   "execution_count": 21,
   "metadata": {},
   "outputs": [
    {
     "name": "stderr",
     "output_type": "stream",
     "text": [
      "100%|██████████| 204/204 [00:27<00:00,  7.40it/s]\n"
     ]
    },
    {
     "name": "stdout",
     "output_type": "stream",
     "text": [
      "A:0.180|O:0.280|CwSeen:0.203|CwUnseen:0.205|CwHM:0.121|CwAUC:0.02645|OpSeen:0.203|OpUnseen:0.059|OpHM:0.062|OpAUC:0.00681|\n"
     ]
    }
   ],
   "source": [
    "obj_acc, attr_acc, report_cw, report_ow  = evaluator.eval_model(compoResnet, 0.00001)\n",
    "\n",
    "print('A:{:.3f}|O:{:.3f}|CwSeen:{:.3f}|CwUnseen:{:.3f}|CwHM:{:.3f}|CwAUC:{:.5f}|OpSeen:{:.3f}|OpUnseen:{:.3f}|OpHM:{:.3f}|OpAUC:{:.5f}|'.format(\n",
    "  attr_acc, obj_acc, *report_cw, *report_ow))"
   ]
  },
  {
   "cell_type": "markdown",
   "metadata": {},
   "source": [
    "**Without applying Fscore**"
   ]
  },
  {
   "cell_type": "code",
   "execution_count": 11,
   "metadata": {},
   "outputs": [
    {
     "name": "stderr",
     "output_type": "stream",
     "text": [
      "100%|██████████| 204/204 [00:26<00:00,  7.57it/s]\n"
     ]
    },
    {
     "name": "stdout",
     "output_type": "stream",
     "text": [
      "A:0.180|O:0.280|CwSeen:0.203|CwUnseen:0.205|CwHM:0.121|CwAUC:0.02645|OpSeen:0.203|OpUnseen:0.060|OpHM:0.062|OpAUC:0.00706|\n"
     ]
    }
   ],
   "source": [
    "obj_acc, attr_acc, report_cw, report_ow  = evaluator.eval_model(compoResnet)\n",
    "\n",
    "print('A:{:.3f}|O:{:.3f}|CwSeen:{:.3f}|CwUnseen:{:.3f}|CwHM:{:.3f}|CwAUC:{:.5f}|OpSeen:{:.3f}|OpUnseen:{:.3f}|OpHM:{:.3f}|OpAUC:{:.5f}|'.format(\n",
    "  attr_acc, obj_acc, *report_cw, *report_ow))"
   ]
  },
  {
   "cell_type": "code",
   "execution_count": 16,
   "metadata": {},
   "outputs": [
    {
     "data": {
      "text/plain": [
       "[<matplotlib.lines.Line2D at 0x7fd753344290>]"
      ]
     },
     "execution_count": 16,
     "metadata": {},
     "output_type": "execute_result"
    },
    {
     "data": {
      "image/png": "[encoded data removed]",
      "text/plain": [
       "<Figure size 432x288 with 4 Axes>"
      ]
     },
     "metadata": {
      "needs_background": "light"
     },
     "output_type": "display_data"
    }
   ],
   "source": [
    "plt.subplot(2, 2, 1)\n",
    "plt.plot(obj_loss_history[0])\n",
    "plt.subplot(2, 2, 2)\n",
    "plt.plot(obj_loss_history[1])\n",
    "plt.subplot(2, 2, 3)\n",
    "plt.plot(attr_loss_history[0])\n",
    "plt.subplot(2, 2, 4)\n",
    "plt.plot(attr_loss_history[1])"
   ]
  },
  {
   "cell_type": "code",
   "execution_count": null,
   "metadata": {
    "id": "iQfa8FFXGZd4"
   },
   "outputs": [],
   "source": [
    "config = {\n",
    "    \"lr\": tune.loguniform(1e-4, 1e-1),\n",
    "    \"resnet\": tune.choice(['resnet18', 'resnet50', 'resnet101']),\n",
    "    \"num_mlp_layers\": tune.choice([1,2,4,6]),\n",
    "}"
   ]
  },
  {
   "cell_type": "code",
   "execution_count": null,
   "metadata": {
    "colab": {
     "base_uri": "https://localhost:8080/"
    },
    "id": "jcs6yz64H1-K",
    "outputId": "36edb0ab-b5db-4da4-bd59-37adeab1ad26"
   },
   "outputs": [],
   "source": [
    "num_samples = 12\n",
    "num_epochs = 6\n",
    "scheduler = ASHAScheduler(\n",
    "        metric=\"loss\",\n",
    "        mode=\"min\",\n",
    "        max_t=num_epochs,\n",
    "        grace_period=1,\n",
    "        reduction_factor=2)\n",
    "reporter = CLIReporter(metric_columns=[\"loss\", \"accuracy\", \"training_iteration\"])\n",
    "result = tune.run(\n",
    "    partial(train_with_config, num_epochs=num_epochs),\n",
    "    resources_per_trial={\"cpu\": 1, \"gpu\": 0.32},\n",
    "    config=config,\n",
    "    num_samples=num_samples,\n",
    "    scheduler=scheduler,\n",
    "    progress_reporter=reporter)"
   ]
  },
  {
   "cell_type": "code",
   "execution_count": null,
   "metadata": {
    "id": "7TwtaoRxPuqT"
   },
   "outputs": [],
   "source": [
    "best_trial = result.get_best_trial(\"loss\", \"min\", \"last\")\n",
    "print(\"Best trial config: {}\".format(best_trial.config))\n",
    "print(\"Best trial final validation loss: {}\".format(\n",
    "    best_trial.last_result[\"loss\"]))\n",
    "print(\"Best trial final validation accuracy: {}\".format(\n",
    "    best_trial.last_result[\"accuracy\"]))\n",
    "\n",
    "resnet = frozen(torch.hub.load('pytorch/vision:v0.9.0', best_trial.config[\"resnet\"], pretrained=True))\n",
    "best_mlp = partial(HalvingMLP, num_layers=best_trial.config[\"num_mlp_layers\"])\n",
    "best_trained_model = CompoResnet(resnet, obj_class, attr_class, best_mlp).to(dev)\n",
    "\n",
    "best_checkpoint_dir = best_trial.checkpoint.value\n",
    "model_state = torch.load(os.path.join(\n",
    "    best_checkpoint_dir, \"checkpoint\"))['model_state_dict']\n",
    "best_trained_model.load_state_dict(model_state)\n",
    "\n",
    "test_acc = calc_acc(best_trained_model, test_dataloader)\n",
    "print(\"\\nBest trial test set accuracy: {}\".format(test_acc))"
   ]
  },
  {
   "cell_type": "markdown",
   "metadata": {
    "id": "pPjvKyZfNL_n"
   },
   "source": [
    "Matches:\n",
    "\n",
    "[0.30456985, 0.15528112, 0.02720025] : MLP2, 30 Epochs, Adam"
   ]
  },
  {
   "cell_type": "markdown",
   "metadata": {},
   "source": [
    "### UT Zappos"
   ]
  },
  {
   "cell_type": "code",
   "execution_count": null,
   "metadata": {},
   "outputs": [],
   "source": []
  }
 ],
 "metadata": {
  "accelerator": "GPU",
  "colab": {
   "collapsed_sections": [
    "zUAbnBhatXQT",
    "mNMEBGuOtd5z"
   ],
   "name": "mitstates_tune.ipynb",
   "provenance": [],
   "toc_visible": true
  },
  "kernelspec": {
   "display_name": "Python 3",
   "language": "python",
   "name": "python3"
  },
  "language_info": {
   "codemirror_mode": {
    "name": "ipython",
    "version": 3
   },
   "file_extension": ".py",
   "mimetype": "text/x-python",
   "name": "python",
   "nbconvert_exporter": "python",
   "pygments_lexer": "ipython3",
   "version": "3.7.10"
  }
 },
 "nbformat": 4,
 "nbformat_minor": 4
}
