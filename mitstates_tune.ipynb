{
 "cells": [
  {
   "cell_type": "markdown",
   "metadata": {
    "id": "mNMEBGuOtd5z"
   },
   "source": [
    "# MIT dataset"
   ]
  },
  {
   "cell_type": "code",
   "execution_count": 1,
   "metadata": {
    "id": "Gm9YyejSBahW"
   },
   "outputs": [
    {
     "name": "stderr",
     "output_type": "stream",
     "text": [
      "/home/ubuntu/anaconda3/envs/mitstates/lib/python3.7/site-packages/gensim/similarities/__init__.py:15: UserWarning: The gensim.similarities.levenshtein submodule is disabled, because the optional Levenshtein package <https://pypi.org/project/python-Levenshtein/> is unavailable. Install Levenhstein (e.g. `pip install python-Levenshtein`) to suppress this warning.\n",
      "  warnings.warn(msg)\n"
     ]
    },
    {
     "name": "stdout",
     "output_type": "stream",
     "text": [
      "53753 activations loaded\n",
      "#images = 34562\n"
     ]
    }
   ],
   "source": [
    "# import some common libraries\n",
    "import numpy as np\n",
    "import torch\n",
    "import torch.nn as nn\n",
    "import os\n",
    "\n",
    "import matplotlib.pyplot as plt\n",
    "from train import train_with_config, train\n",
    "from evaluator import *\n",
    "from model import CompoResnet\n",
    "from symnet.utils import dataset\n",
    "import tqdm\n",
    "if torch.cuda.is_available():  \n",
    "  dev = \"cuda:0\" \n",
    "else:  \n",
    "  dev = \"cpu\" \n",
    "  \n",
    "%load_ext autoreload\n",
    "%autoreload 2"
   ]
  },
  {
   "cell_type": "code",
   "execution_count": 2,
   "metadata": {
    "colab": {
     "base_uri": "https://localhost:8080/"
    },
    "id": "RtyStmYy05Cb",
    "outputId": "acc57faf-cca3-4b8c-de91-3b84f64347fa"
   },
   "outputs": [
    {
     "name": "stdout",
     "output_type": "stream",
     "text": [
      "53753 activations loaded\n",
      "natural split train\n",
      "#images = 30338\n",
      "53753 activations loaded\n",
      "natural split test\n",
      "#images = 12995\n"
     ]
    }
   ],
   "source": [
    "# train [img, attr_id, obj_id, pair_id, img_feature, img, attr_id, obj_id, pair_id, img_feature, aff_mask]\n",
    "# test [img, attr_id, obj_id, pair_id, img_feature, aff_mask]\n",
    "\n",
    "train_dataloader = dataset.get_dataloader('MITg', 'train', batchsize=64, with_image=True, shuffle=True)\n",
    "test_dataloader = dataset.get_dataloader('MITg', 'test', batchsize=64, with_image=True)"
   ]
  },
  {
   "cell_type": "code",
   "execution_count": 3,
   "metadata": {},
   "outputs": [
    {
     "name": "stdout",
     "output_type": "stream",
     "text": [
      "29126 activations loaded\n",
      "natural split train\n",
      "#images = 22998\n",
      "29126 activations loaded\n",
      "natural split test\n",
      "#images = 2914\n"
     ]
    }
   ],
   "source": [
    "train_dataloader = dataset.get_dataloader('UTg', 'train', batchsize=64, with_image=True, shuffle=True)\n",
    "test_dataloader = dataset.get_dataloader('UTg', 'test', batchsize=64, with_image=True)"
   ]
  },
  {
   "cell_type": "code",
   "execution_count": 3,
   "metadata": {},
   "outputs": [
    {
     "name": "stderr",
     "output_type": "stream",
     "text": [
      "Using cache found in /home/ubuntu/.cache/torch/hub/pytorch_vision_v0.9.0\n"
     ]
    }
   ],
   "source": [
    "num_mlp_layers = 1\n",
    "resnet_name = 'resnet18'\n",
    "compoResnet = CompoResnet(resnet_name, num_mlp_layers).to(dev)\n",
    "\n",
    "obj_loss_history = [[],[]]\n",
    "attr_loss_history = [[],[]]\n",
    "optimizer = torch.optim.AdamW(compoResnet.parameters(), lr=0.0015)\n",
    "criterion = nn.CrossEntropyLoss()\n",
    "curr_epoch = 0\n",
    "\n",
    "model_dir = './models/'\n",
    "load_model_name = 'model_14.pt'\n",
    "model_path = None if not load_model_name else os.path.join(model_dir, load_model_name)\n",
    "\n",
    "if model_path:\n",
    "  #checkpoint = torch.load(model_path), map_location=torch.device('cpu'))\n",
    "  checkpoint = torch.load(model_path)\n",
    "  compoResnet.load_state_dict(checkpoint['model_state_dict'])\n",
    "  optimizer.load_state_dict(checkpoint['optimizer_state_dict'])\n",
    "  obj_loss_history = checkpoint['obj_loss']\n",
    "  attr_loss_history = checkpoint['attr_loss']"
   ]
  },
  {
   "cell_type": "code",
   "execution_count": null,
   "metadata": {},
   "outputs": [],
   "source": [
    "num_epochs = 10\n",
    "batch_size = 64\n",
    "curr_epoch = 0\n",
    "model_name = 'model_ut'\n",
    "train(compoResnet, optimizer, criterion, num_epochs, obj_loss_history, attr_loss_history, batch_size, train_dataloader, \n",
    "      test_dataloader=test_dataloader, curr_epoch=curr_epoch, model_name=model_name, model_dir=model_dir)"
   ]
  },
  {
   "cell_type": "code",
   "execution_count": 4,
   "metadata": {},
   "outputs": [],
   "source": [
    "evaluator = CompoResnetEvaluator(test_dataloader, 20)"
   ]
  },
  {
   "cell_type": "code",
   "execution_count": 8,
   "metadata": {},
   "outputs": [
    {
     "name": "stderr",
     "output_type": "stream",
     "text": [
      "100%|██████████| 204/204 [00:27<00:00,  7.45it/s]\n"
     ]
    },
    {
     "name": "stdout",
     "output_type": "stream",
     "text": [
      "A:0.180|O:0.280|CwSeen:0.203|CwUnseen:0.205|CwHM:0.121|CwAUC:0.02645|OpSeen:0.203|OpUnseen:0.060|OpHM:0.062|OpAUC:0.00706|\n"
     ]
    }
   ],
   "source": [
    "obj_acc, attr_acc, report_cw, report_ow  = evaluator.eval_model(compoResnet)\n",
    "\n",
    "print('A:{:.3f}|O:{:.3f}|CwSeen:{:.3f}|CwUnseen:{:.3f}|CwHM:{:.3f}|CwAUC:{:.5f}|OpSeen:{:.3f}|OpUnseen:{:.3f}|OpHM:{:.3f}|OpAUC:{:.5f}|'.format(\n",
    "  attr_acc, obj_acc, *report_cw, *report_ow))"
   ]
  },
  {
   "cell_type": "markdown",
   "metadata": {},
   "source": [
    "**Hard masking**"
   ]
  },
  {
   "cell_type": "code",
   "execution_count": null,
   "metadata": {},
   "outputs": [],
   "source": [
    "def calc_fscore(self):\n",
    "  def cos_sim(x, y):\n",
    "    x, y = torch.tensor(x).to(dev), torch.tensor(y).unsqueeze(0).to(dev)\n",
    "    return cos(x, y)\n",
    "  fscore = torch.ones_like(self.seen_mask, dtype=torch.float)\n",
    "  word2vec = KeyedVectors.load_word2vec_format(self.word2vec_path, binary=True)\n",
    "  cos = torch.nn.CosineSimilarity(dim=1)\n",
    "  for i in tqdm.tqdm(range(self.attr_class * self.obj_class), total=self.attr_class*self.obj_class):\n",
    "    attr_id = i // self.obj_class\n",
    "    obj_id = i % self.obj_class\n",
    "    if self.unseen_mask_ow[attr_id, obj_id]:\n",
    "      attr, obj = self.attrs[attr_id], self.objs[obj_id]\n",
    "      paired_attrs_with_obj = self.attrs[self.seen_mask[:, obj_id].cpu()]\n",
    "      paired_objs_with_attr = self.objs[self.seen_mask[attr_id, :].cpu()]\n",
    "      obj_score = max(cos_sim(word2vec[paired_objs_with_attr], word2vec[obj]))\n",
    "      attr_score = max(cos_sim(word2vec[paired_attrs_with_obj], word2vec[attr]))\n",
    "      fscore[attr_id, obj_id] = (obj_score + attr_score) / 2\n",
    "  return fscore\n",
    "\n",
    "def eval_model(self, net):\n",
    "  \"\"\"Return: Tuple of (closed_world_report, open_word_report).\n",
    "  report: best_seen, best_unseen, best_harmonic, auc\n",
    "  \"\"\"\n",
    "  obj_scores, attr_scores = [], []\n",
    "  with torch.no_grad():\n",
    "    net.eval()\n",
    "    for i, batch in tqdm.tqdm(\n",
    "        enumerate(self.test_dataloader),\n",
    "        total=len(self.test_dataloader),\n",
    "        position=0,\n",
    "        leave=True):\n",
    "      img, attr_id, obj_id = batch[:3]\n",
    "      scores = net(img.to(dev))\n",
    "      obj_scores.append(scores[0])\n",
    "      attr_scores.append(scores[1])\n",
    "\n",
    "  obj_scores = torch.cat(obj_scores)\n",
    "  attr_scores = torch.cat(attr_scores)\n",
    "  compo_scores = self.get_composcores(obj_scores, attr_scores)\n",
    "  compo_scores[:, self.fscore_mask] = -1e10\n",
    "\n",
    "  obj_acc = self.acc(obj_scores, self.obj_labels)\n",
    "  attr_acc = self.acc(attr_scores, self.attr_labels)\n",
    "  acc_cw = self.compo_acc(compo_scores)\n",
    "  acc_ow = self.compo_acc(compo_scores, open_world=True)\n",
    "  report_cw = self.analyse_acc_report(acc_cw)\n",
    "  report_ow = self.analyse_acc_report(acc_ow)\n",
    "\n",
    "  return obj_acc, attr_acc, report_cw, report_ow\n",
    "\n",
    "self = evaluator\n",
    "self.word2vec_path = './GoogleNews-vectors-negative300.bin'\n",
    "fscore = calc_fscore(self)"
   ]
  },
  {
   "cell_type": "code",
   "execution_count": null,
   "metadata": {},
   "outputs": [],
   "source": [
    "results = []\n",
    "for t in tqdm.tqdm(np.linspace(0.1, 0.5, 20), total=20):\n",
    "  self.fscore_mask = fscore < t\n",
    "  results.append(eval_model(self, compoResnet))"
   ]
  },
  {
   "cell_type": "code",
   "execution_count": 15,
   "metadata": {},
   "outputs": [],
   "source": [
    "auc = [result[-1][-1] for result in results]"
   ]
  },
  {
   "cell_type": "code",
   "execution_count": 16,
   "metadata": {
    "tags": []
   },
   "outputs": [
    {
     "data": {
      "text/plain": [
       "[<matplotlib.lines.Line2D at 0x7f174731be50>]"
      ]
     },
     "execution_count": 16,
     "metadata": {},
     "output_type": "execute_result"
    },
    {
     "data": {
      "image/png": "[encoded data removed]",
      "text/plain": [
       "<Figure size 432x288 with 1 Axes>"
      ]
     },
     "metadata": {
      "needs_background": "light"
     },
     "output_type": "display_data"
    }
   ],
   "source": [
    "plt.plot(np.linspace(0.1, 0.5, 20), auc)"
   ]
  },
  {
   "cell_type": "code",
   "execution_count": null,
   "metadata": {},
   "outputs": [],
   "source": [
    "evaluator = CompoResnetEvaluatorFscore(test_dataloader, 20, 0.27, './GoogleNews-vectors-negative300.bin')"
   ]
  },
  {
   "cell_type": "code",
   "execution_count": 18,
   "metadata": {},
   "outputs": [],
   "source": [
    "obj_acc, attr_acc, report_cw, report_ow = results[np.argmax(auc)]"
   ]
  },
  {
   "cell_type": "code",
   "execution_count": 19,
   "metadata": {},
   "outputs": [
    {
     "name": "stdout",
     "output_type": "stream",
     "text": [
      "A:0.180|O:0.280|CwSeen:0.203|CwUnseen:0.143|CwHM:0.102|CwAUC:0.01897|OpSeen:0.203|OpUnseen:0.078|OpHM:0.072|OpAUC:0.00967|\n"
     ]
    }
   ],
   "source": [
    "#obj_acc, attr_acc, report_cw, report_ow  = evaluator.eval_model(compoResnet)\n",
    "\n",
    "print('A:{:.3f}|O:{:.3f}|CwSeen:{:.3f}|CwUnseen:{:.3f}|CwHM:{:.3f}|CwAUC:{:.5f}|OpSeen:{:.3f}|OpUnseen:{:.3f}|OpHM:{:.3f}|OpAUC:{:.5f}|'.format(\n",
    "  attr_acc, obj_acc, *report_cw, *report_ow))"
   ]
  },
  {
   "cell_type": "markdown",
   "metadata": {},
   "source": [
    "**Without applying Fscore**"
   ]
  },
  {
   "cell_type": "code",
   "execution_count": 11,
   "metadata": {},
   "outputs": [
    {
     "name": "stderr",
     "output_type": "stream",
     "text": [
      "100%|██████████| 204/204 [00:26<00:00,  7.57it/s]\n"
     ]
    },
    {
     "name": "stdout",
     "output_type": "stream",
     "text": [
      "A:0.180|O:0.280|CwSeen:0.203|CwUnseen:0.205|CwHM:0.121|CwAUC:0.02645|OpSeen:0.203|OpUnseen:0.060|OpHM:0.062|OpAUC:0.00706|\n"
     ]
    }
   ],
   "source": [
    "obj_acc, attr_acc, report_cw, report_ow  = evaluator.eval_model(compoResnet)\n",
    "\n",
    "print('A:{:.3f}|O:{:.3f}|CwSeen:{:.3f}|CwUnseen:{:.3f}|CwHM:{:.3f}|CwAUC:{:.5f}|OpSeen:{:.3f}|OpUnseen:{:.3f}|OpHM:{:.3f}|OpAUC:{:.5f}|'.format(\n",
    "  attr_acc, obj_acc, *report_cw, *report_ow))"
   ]
  },
  {
   "cell_type": "code",
   "execution_count": 16,
   "metadata": {},
   "outputs": [
    {
     "data": {
      "text/plain": [
       "[<matplotlib.lines.Line2D at 0x7fd753344290>]"
      ]
     },
     "execution_count": 16,
     "metadata": {},
     "output_type": "execute_result"
    },
    {
     "data": {
      "image/png": "[encoded data removed]",
      "text/plain": [
       "<Figure size 432x288 with 4 Axes>"
      ]
     },
     "metadata": {
      "needs_background": "light"
     },
     "output_type": "display_data"
    }
   ],
   "source": [
    "plt.subplot(2, 2, 1)\n",
    "plt.plot(obj_loss_history[0])\n",
    "plt.subplot(2, 2, 2)\n",
    "plt.plot(obj_loss_history[1])\n",
    "plt.subplot(2, 2, 3)\n",
    "plt.plot(attr_loss_history[0])\n",
    "plt.subplot(2, 2, 4)\n",
    "plt.plot(attr_loss_history[1])"
   ]
  },
  {
   "cell_type": "code",
   "execution_count": null,
   "metadata": {
    "id": "iQfa8FFXGZd4"
   },
   "outputs": [],
   "source": [
    "config = {\n",
    "    \"lr\": tune.loguniform(1e-4, 1e-1),\n",
    "    \"resnet\": tune.choice(['resnet18', 'resnet50', 'resnet101']),\n",
    "    \"num_mlp_layers\": tune.choice([1,2,4,6]),\n",
    "}"
   ]
  },
  {
   "cell_type": "code",
   "execution_count": null,
   "metadata": {
    "colab": {
     "base_uri": "https://localhost:8080/"
    },
    "id": "jcs6yz64H1-K",
    "outputId": "36edb0ab-b5db-4da4-bd59-37adeab1ad26"
   },
   "outputs": [],
   "source": [
    "num_samples = 12\n",
    "num_epochs = 6\n",
    "scheduler = ASHAScheduler(\n",
    "        metric=\"loss\",\n",
    "        mode=\"min\",\n",
    "        max_t=num_epochs,\n",
    "        grace_period=1,\n",
    "        reduction_factor=2)\n",
    "reporter = CLIReporter(metric_columns=[\"loss\", \"accuracy\", \"training_iteration\"])\n",
    "result = tune.run(\n",
    "    partial(train_with_config, num_epochs=num_epochs),\n",
    "    resources_per_trial={\"cpu\": 1, \"gpu\": 0.32},\n",
    "    config=config,\n",
    "    num_samples=num_samples,\n",
    "    scheduler=scheduler,\n",
    "    progress_reporter=reporter)"
   ]
  },
  {
   "cell_type": "code",
   "execution_count": null,
   "metadata": {
    "id": "7TwtaoRxPuqT"
   },
   "outputs": [],
   "source": [
    "best_trial = result.get_best_trial(\"loss\", \"min\", \"last\")\n",
    "print(\"Best trial config: {}\".format(best_trial.config))\n",
    "print(\"Best trial final validation loss: {}\".format(\n",
    "    best_trial.last_result[\"loss\"]))\n",
    "print(\"Best trial final validation accuracy: {}\".format(\n",
    "    best_trial.last_result[\"accuracy\"]))\n",
    "\n",
    "resnet = frozen(torch.hub.load('pytorch/vision:v0.9.0', best_trial.config[\"resnet\"], pretrained=True))\n",
    "best_mlp = partial(HalvingMLP, num_layers=best_trial.config[\"num_mlp_layers\"])\n",
    "best_trained_model = CompoResnet(resnet, obj_class, attr_class, best_mlp).to(dev)\n",
    "\n",
    "best_checkpoint_dir = best_trial.checkpoint.value\n",
    "model_state = torch.load(os.path.join(\n",
    "    best_checkpoint_dir, \"checkpoint\"))['model_state_dict']\n",
    "best_trained_model.load_state_dict(model_state)\n",
    "\n",
    "test_acc = calc_acc(best_trained_model, test_dataloader)\n",
    "print(\"\\nBest trial test set accuracy: {}\".format(test_acc))"
   ]
  },
  {
   "cell_type": "markdown",
   "metadata": {
    "id": "pPjvKyZfNL_n"
   },
   "source": [
    "Matches:\n",
    "\n",
    "[0.30456985, 0.15528112, 0.02720025] : MLP2, 30 Epochs, Adam"
   ]
  }
 ],
 "metadata": {
  "accelerator": "GPU",
  "colab": {
   "collapsed_sections": [
    "zUAbnBhatXQT",
    "mNMEBGuOtd5z"
   ],
   "name": "mitstates_tune.ipynb",
   "provenance": [],
   "toc_visible": true
  },
  "kernelspec": {
   "display_name": "Python 3",
   "language": "python",
   "name": "python3"
  },
  "language_info": {
   "codemirror_mode": {
    "name": "ipython",
    "version": 3
   },
   "file_extension": ".py",
   "mimetype": "text/x-python",
   "name": "python",
   "nbconvert_exporter": "python",
   "pygments_lexer": "ipython3",
   "version": "3.7.10"
  }
 },
 "nbformat": 4,
 "nbformat_minor": 4
}
